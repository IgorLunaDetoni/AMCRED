{
 "cells": [
  {
   "cell_type": "code",
   "execution_count": 29,
   "metadata": {},
   "outputs": [],
   "source": [
    "import pandas as pd\n",
    "import xgboost as xgb\n",
    "import numpy as np\n",
    "from sklearn.model_selection import train_test_split\n",
    "from sklearn.model_selection import KFold\n",
    "from sklearn.model_selection import GridSearchCV\n",
    "from sklearn.metrics import make_scorer, cohen_kappa_score, accuracy_score, roc_auc_score\n",
    "from xgboost import XGBRegressor\n",
    "from sklearn.metrics import confusion_matrix,classification_report,accuracy_score, log_loss\n",
    "import seaborn as sns\n",
    "import numpy as np\n",
    "import xgboost as xgb\n",
    "\n",
    "\n",
    "\n",
    "\n",
    "%matplotlib inline"
   ]
  },
  {
   "cell_type": "code",
   "execution_count": 3,
   "metadata": {},
   "outputs": [],
   "source": [
    "df = pd.read_feather(r'AMCRED\\BLUSOL\\BLUSOL\\big_frame_4.feather')"
   ]
  },
  {
   "cell_type": "code",
   "execution_count": 4,
   "metadata": {},
   "outputs": [],
   "source": [
    "\n",
    "x_train,x_test,y_train,y_test = train_test_split(df.drop('DEFAULT',axis = 1).values,df['DEFAULT'].values,test_size = 0.25, random_state= 333)"
   ]
  },
  {
   "cell_type": "code",
   "execution_count": 6,
   "metadata": {},
   "outputs": [],
   "source": [
    "\n",
    "# Define the XGBoost classifier and the parameter grid for GridSearchCV\n",
    "classifier = xgb.XGBClassifier()\n",
    "parameters = {\n",
    "    'learning_rate': [0.01,0.03],\n",
    "    'max_depth': [5, 6],\n",
    "    'min_child_weight': [4],\n",
    "    'n_estimators': [1000,1100, 1200],\n",
    "    'scale_pos_weight':list(range(20,60,10)),\n",
    "    \"colsample_bytree\":[0.75,0.5,1],\n",
    "    \"gamma\":[0.001,0.01,0.2]}\n",
    "\n",
    "# Create an instance of GridSearchCV with the classifier and parameter grid\n",
    "gridsearch = GridSearchCV(estimator=classifier, param_grid=parameters, scoring='roc_auc', cv=5)\n",
    "\n",
    "# Fit the GridSearchCV instance to the training data\n",
    "grid=gridsearch.fit(x_train, y_train)"
   ]
  },
  {
   "cell_type": "code",
   "execution_count": 7,
   "metadata": {},
   "outputs": [
    {
     "name": "stdout",
     "output_type": "stream",
     "text": [
      "0.9396702048369964\n",
      "{'colsample_bytree': 0.5, 'gamma': 0.01, 'learning_rate': 0.01, 'max_depth': 5, 'min_child_weight': 4, 'n_estimators': 1100, 'scale_pos_weight': 20}\n"
     ]
    }
   ],
   "source": [
    "# Find the best parameters and the best score\n",
    "best_params = grid.best_params_\n",
    "best_score = grid.best_score_\n",
    "print(best_score)\n",
    "print(best_params)"
   ]
  },
  {
   "cell_type": "code",
   "execution_count": 9,
   "metadata": {},
   "outputs": [],
   "source": [
    "final=classifier.fit(x_train, y_train)\n",
    "y_pred = final.predict(x_test)"
   ]
  },
  {
   "cell_type": "code",
   "execution_count": 10,
   "metadata": {},
   "outputs": [
    {
     "data": {
      "text/plain": [
       "<AxesSubplot: >"
      ]
     },
     "execution_count": 10,
     "metadata": {},
     "output_type": "execute_result"
    },
    {
     "data": {
      "image/png": "[encoded data removed]",
      "text/plain": [
       "<Figure size 640x480 with 2 Axes>"
      ]
     },
     "metadata": {},
     "output_type": "display_data"
    }
   ],
   "source": [
    "cm = confusion_matrix(y_test,y_pred)\n",
    "sns.heatmap(cm,annot=True,cmap='viridis')"
   ]
  },
  {
   "cell_type": "code",
   "execution_count": 11,
   "metadata": {},
   "outputs": [
    {
     "name": "stdout",
     "output_type": "stream",
     "text": [
      "              precision    recall  f1-score   support\n",
      "\n",
      "       False       0.95      0.98      0.97     24340\n",
      "        True       0.57      0.34      0.42      1781\n",
      "\n",
      "    accuracy                           0.94     26121\n",
      "   macro avg       0.76      0.66      0.69     26121\n",
      "weighted avg       0.93      0.94      0.93     26121\n",
      "\n"
     ]
    }
   ],
   "source": [
    "print(classification_report(y_test,y_pred))"
   ]
  },
  {
   "cell_type": "code",
   "execution_count": 12,
   "metadata": {},
   "outputs": [
    {
     "name": "stdout",
     "output_type": "stream",
     "text": [
      "Best Parameters:  {'colsample_bytree': 0.5, 'gamma': 0.01, 'learning_rate': 0.01, 'max_depth': 5, 'min_child_weight': 4, 'n_estimators': 1100, 'scale_pos_weight': 20}\n",
      "Best Score:  0.9396702048369964\n",
      "ROC AUC:  0.6587966562044256\n",
      "Cohen's Kappa:  0.39156086625655073\n"
     ]
    }
   ],
   "source": [
    "\n",
    "\n",
    "roc_auc = roc_auc_score(y_test, y_pred)\n",
    "cohen_kappa = cohen_kappa_score(y_test, y_pred)\n",
    "\n",
    "print(\"Best Parameters: \", best_params)\n",
    "print(\"Best Score: \", best_score)\n",
    "print(\"ROC AUC: \", roc_auc)\n",
    "print(\"Cohen's Kappa: \", cohen_kappa)\n"
   ]
  },
  {
   "attachments": {},
   "cell_type": "markdown",
   "metadata": {},
   "source": [
    "x,y = df.drop('DEFAULT',axis = 1).values,df['DEFAULT'].values\n",
    "cv = KFold(n_splits = 5)\n",
    "params = {'max_depth': [5,6,7,10],\n",
    "           'learning_rate': [0.01, 0.05, 0.1],\n",
    "           'n_estimators': [100, 500, 1000],\n",
    "           'colsample_bytree': [0.3, 0.7],\n",
    "         'scale_pos_weight':list(range(30,60,10))}\n",
    "\n",
    "#Scores Kapp e AUC\n",
    "kappa_scorer = make_scorer(cohen_kappa_score)\n",
    "auc_scorer = make_scorer(roc_auc_score, needs_proba=True)\n",
    "\n",
    "scoring_metrics = {'kappa': kappa_scorer, 'auc': auc_scorer}\n",
    "                           \n",
    "model = xgb.XGBClassifier()\n",
    "grid = GridSearchCV(estimator = model, param_grid = params, cv = cv, scoring=scoring_metrics,verbose = 1, refit=\"auc\")\n",
    "grid_result = grid.fit(x,y)"
   ]
  },
  {
   "attachments": {},
   "cell_type": "markdown",
   "metadata": {},
   "source": [
    "def metric(real,pred):\n",
    "    return np.where(pred[real == 1] < 1,np.power(pred[real == 1],2),1).sum() * 100 + np.where(pred[real == 0] > 0,np.power(1 - pred[real == 0],2),1).sum()\n",
    "\n",
    "scorer = make_scorer(metric)\n",
    "\n",
    "clf = RandomizedSearchCV(estimator=xgbr,\n",
    "                         param_distributions=params,\n",
    "                         scoring='neg_mean_squared_error',\n",
    "                         n_iter=25,\n",
    "                         verbose=3,cv = cv)"
   ]
  },
  {
   "cell_type": "code",
   "execution_count": 42,
   "metadata": {},
   "outputs": [],
   "source": [
    "final.save_model(\"modelo_xgb_V1.txt\")"
   ]
  },
  {
   "cell_type": "code",
   "execution_count": 14,
   "metadata": {},
   "outputs": [],
   "source": [
    "# Define the XGBoost classifier and the parameter grid for GridSearchCV\n",
    "classifier = xgb.XGBClassifier()\n",
    "parameters = {\n",
    "    'learning_rate': [0.01, 0.1, 0.3],\n",
    "    'max_depth': [4, 5, 6, 7],\n",
    "    'n_estimators': [100, 500, 1000],\n",
    "    'min_child_weight': [3, 4, 5],\n",
    "    'scale_pos_weight':list(range(20,60,10))}\n",
    "\n",
    "# Create an instance of GridSearchCV with the classifier and parameter grid\n",
    "kappa_scorer = make_scorer(cohen_kappa_score)\n",
    "gridsearch = GridSearchCV(estimator=classifier, param_grid=parameters, scoring=kappa_scorer, cv=5)\n",
    "\n",
    "# Fit the GridSearchCV instance to the training data\n",
    "grid=gridsearch.fit(x_train, y_train)"
   ]
  },
  {
   "cell_type": "code",
   "execution_count": 15,
   "metadata": {},
   "outputs": [
    {
     "name": "stdout",
     "output_type": "stream",
     "text": [
      "0.45220489305927386\n",
      "{'learning_rate': 0.1, 'max_depth': 7, 'min_child_weight': 4, 'n_estimators': 1000, 'scale_pos_weight': 30}\n"
     ]
    }
   ],
   "source": [
    "# Find the best parameters and the best score\n",
    "best_params = grid.best_params_\n",
    "best_score = grid.best_score_\n",
    "print(best_score)\n",
    "print(best_params)"
   ]
  },
  {
   "cell_type": "code",
   "execution_count": 16,
   "metadata": {},
   "outputs": [],
   "source": [
    "final1=classifier.fit(x_train, y_train)\n",
    "y_pred = final.predict(x_test)"
   ]
  },
  {
   "cell_type": "code",
   "execution_count": 17,
   "metadata": {},
   "outputs": [
    {
     "data": {
      "text/plain": [
       "<AxesSubplot: >"
      ]
     },
     "execution_count": 17,
     "metadata": {},
     "output_type": "execute_result"
    },
    {
     "data": {
      "image/png": "[encoded data removed]",
      "text/plain": [
       "<Figure size 640x480 with 2 Axes>"
      ]
     },
     "metadata": {},
     "output_type": "display_data"
    }
   ],
   "source": [
    "cm = confusion_matrix(y_test,y_pred)\n",
    "sns.heatmap(cm,annot=True,cmap='viridis')"
   ]
  },
  {
   "cell_type": "code",
   "execution_count": 18,
   "metadata": {},
   "outputs": [
    {
     "name": "stdout",
     "output_type": "stream",
     "text": [
      "              precision    recall  f1-score   support\n",
      "\n",
      "       False       0.95      0.98      0.97     24365\n",
      "        True       0.56      0.33      0.42      1756\n",
      "\n",
      "    accuracy                           0.94     26121\n",
      "   macro avg       0.76      0.66      0.69     26121\n",
      "weighted avg       0.93      0.94      0.93     26121\n",
      "\n"
     ]
    }
   ],
   "source": [
    "print(classification_report(y_test,y_pred))"
   ]
  },
  {
   "cell_type": "code",
   "execution_count": 19,
   "metadata": {},
   "outputs": [
    {
     "name": "stdout",
     "output_type": "stream",
     "text": [
      "Best Parameters:  {'learning_rate': 0.1, 'max_depth': 7, 'min_child_weight': 4, 'n_estimators': 1000, 'scale_pos_weight': 30}\n",
      "Best Score:  0.45220489305927386\n",
      "ROC AUC:  0.6570524581780411\n",
      "Cohen's Kappa:  0.38815020877252115\n"
     ]
    }
   ],
   "source": [
    "roc_auc = roc_auc_score(y_test, y_pred)\n",
    "cohen_kappa = cohen_kappa_score(y_test, y_pred)\n",
    "\n",
    "print(\"Best Parameters: \", best_params)\n",
    "print(\"Best Score: \", best_score)\n",
    "print(\"ROC AUC: \", roc_auc)\n",
    "print(\"Cohen's Kappa: \", cohen_kappa)\n"
   ]
  },
  {
   "attachments": {},
   "cell_type": "markdown",
   "metadata": {},
   "source": [
    "### Rede Neural Classifier"
   ]
  },
  {
   "cell_type": "code",
   "execution_count": 23,
   "metadata": {},
   "outputs": [
    {
     "data": {
      "text/html": [
       "<div>\n",
       "<style scoped>\n",
       "    .dataframe tbody tr th:only-of-type {\n",
       "        vertical-align: middle;\n",
       "    }\n",
       "\n",
       "    .dataframe tbody tr th {\n",
       "        vertical-align: top;\n",
       "    }\n",
       "\n",
       "    .dataframe thead th {\n",
       "        text-align: right;\n",
       "    }\n",
       "</style>\n",
       "<table border=\"1\" class=\"dataframe\">\n",
       "  <thead>\n",
       "    <tr style=\"text-align: right;\">\n",
       "      <th></th>\n",
       "      <th>situacaodoimovelderesidencia</th>\n",
       "      <th>nropessoasnacasa</th>\n",
       "      <th>situacaoimoveldeatividade</th>\n",
       "      <th>tipodeponto</th>\n",
       "      <th>formacaoescolar</th>\n",
       "      <th>constituicao</th>\n",
       "      <th>pessoafisicajuridica</th>\n",
       "      <th>nrodefuncionarios</th>\n",
       "      <th>rendafamiliarmensal</th>\n",
       "      <th>totaldasreceitas</th>\n",
       "      <th>finalidadeemprestimo</th>\n",
       "      <th>taxaaomes</th>\n",
       "      <th>valoremprestado</th>\n",
       "      <th>quantidadeparcelas</th>\n",
       "      <th>conceitospc</th>\n",
       "      <th>valorparcela</th>\n",
       "      <th>pesoparcela</th>\n",
       "      <th>DEFAULT</th>\n",
       "    </tr>\n",
       "  </thead>\n",
       "  <tbody>\n",
       "    <tr>\n",
       "      <th>0</th>\n",
       "      <td>-0.642253</td>\n",
       "      <td>0.313479</td>\n",
       "      <td>0.030079</td>\n",
       "      <td>-0.629161</td>\n",
       "      <td>-0.031697</td>\n",
       "      <td>0.360688</td>\n",
       "      <td>1.890953</td>\n",
       "      <td>-0.058765</td>\n",
       "      <td>-0.004641</td>\n",
       "      <td>-0.013619</td>\n",
       "      <td>-0.775184</td>\n",
       "      <td>0.425537</td>\n",
       "      <td>-0.736380</td>\n",
       "      <td>-0.578737</td>\n",
       "      <td>3.065097</td>\n",
       "      <td>-0.353105</td>\n",
       "      <td>-0.454706</td>\n",
       "      <td>False</td>\n",
       "    </tr>\n",
       "    <tr>\n",
       "      <th>1</th>\n",
       "      <td>-0.642253</td>\n",
       "      <td>-0.078087</td>\n",
       "      <td>0.030079</td>\n",
       "      <td>1.589402</td>\n",
       "      <td>0.057219</td>\n",
       "      <td>0.360688</td>\n",
       "      <td>1.890953</td>\n",
       "      <td>-0.058765</td>\n",
       "      <td>-0.001092</td>\n",
       "      <td>-0.011746</td>\n",
       "      <td>-0.775184</td>\n",
       "      <td>0.425537</td>\n",
       "      <td>-0.063955</td>\n",
       "      <td>1.164573</td>\n",
       "      <td>-0.478508</td>\n",
       "      <td>-0.224240</td>\n",
       "      <td>-0.349945</td>\n",
       "      <td>False</td>\n",
       "    </tr>\n",
       "    <tr>\n",
       "      <th>2</th>\n",
       "      <td>2.087291</td>\n",
       "      <td>-0.078087</td>\n",
       "      <td>2.838781</td>\n",
       "      <td>1.589402</td>\n",
       "      <td>-0.031697</td>\n",
       "      <td>0.360688</td>\n",
       "      <td>1.890953</td>\n",
       "      <td>0.482467</td>\n",
       "      <td>-0.012919</td>\n",
       "      <td>0.033630</td>\n",
       "      <td>-0.775184</td>\n",
       "      <td>-0.360870</td>\n",
       "      <td>0.968164</td>\n",
       "      <td>1.164573</td>\n",
       "      <td>-0.478508</td>\n",
       "      <td>0.098897</td>\n",
       "      <td>-0.549765</td>\n",
       "      <td>False</td>\n",
       "    </tr>\n",
       "    <tr>\n",
       "      <th>3</th>\n",
       "      <td>-0.642253</td>\n",
       "      <td>0.705045</td>\n",
       "      <td>0.030079</td>\n",
       "      <td>1.589402</td>\n",
       "      <td>0.057219</td>\n",
       "      <td>-0.560714</td>\n",
       "      <td>0.098972</td>\n",
       "      <td>-0.058765</td>\n",
       "      <td>-0.001092</td>\n",
       "      <td>-0.001411</td>\n",
       "      <td>1.417033</td>\n",
       "      <td>-0.630729</td>\n",
       "      <td>-0.491908</td>\n",
       "      <td>-0.827781</td>\n",
       "      <td>-0.478508</td>\n",
       "      <td>-0.120299</td>\n",
       "      <td>-0.398116</td>\n",
       "      <td>False</td>\n",
       "    </tr>\n",
       "    <tr>\n",
       "      <th>4</th>\n",
       "      <td>-0.642253</td>\n",
       "      <td>-0.078087</td>\n",
       "      <td>-0.540502</td>\n",
       "      <td>-0.629161</td>\n",
       "      <td>-0.031697</td>\n",
       "      <td>-1.488522</td>\n",
       "      <td>-0.597817</td>\n",
       "      <td>0.121645</td>\n",
       "      <td>-0.001092</td>\n",
       "      <td>-0.004318</td>\n",
       "      <td>-0.775184</td>\n",
       "      <td>-0.630729</td>\n",
       "      <td>-0.572463</td>\n",
       "      <td>-0.827781</td>\n",
       "      <td>-0.478508</td>\n",
       "      <td>-0.184078</td>\n",
       "      <td>-0.391048</td>\n",
       "      <td>False</td>\n",
       "    </tr>\n",
       "  </tbody>\n",
       "</table>\n",
       "</div>"
      ],
      "text/plain": [
       "   situacaodoimovelderesidencia  nropessoasnacasa  situacaoimoveldeatividade  \\\n",
       "0                     -0.642253          0.313479                   0.030079   \n",
       "1                     -0.642253         -0.078087                   0.030079   \n",
       "2                      2.087291         -0.078087                   2.838781   \n",
       "3                     -0.642253          0.705045                   0.030079   \n",
       "4                     -0.642253         -0.078087                  -0.540502   \n",
       "\n",
       "   tipodeponto  formacaoescolar  constituicao  pessoafisicajuridica  \\\n",
       "0    -0.629161        -0.031697      0.360688              1.890953   \n",
       "1     1.589402         0.057219      0.360688              1.890953   \n",
       "2     1.589402        -0.031697      0.360688              1.890953   \n",
       "3     1.589402         0.057219     -0.560714              0.098972   \n",
       "4    -0.629161        -0.031697     -1.488522             -0.597817   \n",
       "\n",
       "   nrodefuncionarios  rendafamiliarmensal  totaldasreceitas  \\\n",
       "0          -0.058765            -0.004641         -0.013619   \n",
       "1          -0.058765            -0.001092         -0.011746   \n",
       "2           0.482467            -0.012919          0.033630   \n",
       "3          -0.058765            -0.001092         -0.001411   \n",
       "4           0.121645            -0.001092         -0.004318   \n",
       "\n",
       "   finalidadeemprestimo  taxaaomes  valoremprestado  quantidadeparcelas  \\\n",
       "0             -0.775184   0.425537        -0.736380           -0.578737   \n",
       "1             -0.775184   0.425537        -0.063955            1.164573   \n",
       "2             -0.775184  -0.360870         0.968164            1.164573   \n",
       "3              1.417033  -0.630729        -0.491908           -0.827781   \n",
       "4             -0.775184  -0.630729        -0.572463           -0.827781   \n",
       "\n",
       "   conceitospc  valorparcela  pesoparcela  DEFAULT  \n",
       "0     3.065097     -0.353105    -0.454706    False  \n",
       "1    -0.478508     -0.224240    -0.349945    False  \n",
       "2    -0.478508      0.098897    -0.549765    False  \n",
       "3    -0.478508     -0.120299    -0.398116    False  \n",
       "4    -0.478508     -0.184078    -0.391048    False  "
      ]
     },
     "execution_count": 23,
     "metadata": {},
     "output_type": "execute_result"
    }
   ],
   "source": [
    "\n",
    "df.head()"
   ]
  },
  {
   "cell_type": "code",
   "execution_count": 5,
   "metadata": {},
   "outputs": [],
   "source": [
    "import tensorflow as tf\n",
    "from tensorflow import keras\n",
    "from keras import layers\n",
    "# Function to generate Deep ANN model \n",
    "from keras.models import Sequential\n",
    "from keras.layers import Dense, PReLU\n",
    "from keras.models import load_model\n",
    "from keras.layers import LeakyReLU\n",
    " "
   ]
  },
  {
   "cell_type": "code",
   "execution_count": 6,
   "metadata": {},
   "outputs": [
    {
     "name": "stdout",
     "output_type": "stream",
     "text": [
      "(78361, 17)\n"
     ]
    }
   ],
   "source": [
    "print(x_train.shape)"
   ]
  },
  {
   "cell_type": "code",
   "execution_count": 7,
   "metadata": {},
   "outputs": [
    {
     "data": {
      "text/plain": [
       "array([0, 1, 0, ..., 0, 1, 0])"
      ]
     },
     "execution_count": 7,
     "metadata": {},
     "output_type": "execute_result"
    }
   ],
   "source": [
    "y_train.astype(int)"
   ]
  },
  {
   "cell_type": "code",
   "execution_count": 32,
   "metadata": {},
   "outputs": [
    {
     "name": "stdout",
     "output_type": "stream",
     "text": [
      "Epoch 1/150\n",
      "1568/1568 [==============================] - 4s 2ms/step - loss: 0.1753 - accuracy: 0.9332\n",
      "Epoch 2/150\n",
      "1568/1568 [==============================] - 4s 2ms/step - loss: 0.1447 - accuracy: 0.9349\n",
      "Epoch 3/150\n",
      "1568/1568 [==============================] - 4s 2ms/step - loss: 0.1438 - accuracy: 0.9362\n",
      "Epoch 4/150\n",
      "1568/1568 [==============================] - 3s 2ms/step - loss: 0.1427 - accuracy: 0.9371\n",
      "Epoch 5/150\n",
      "1568/1568 [==============================] - 3s 2ms/step - loss: 0.1420 - accuracy: 0.9378\n",
      "Epoch 6/150\n",
      "1568/1568 [==============================] - 3s 2ms/step - loss: 0.1414 - accuracy: 0.9385\n",
      "Epoch 7/150\n",
      "1568/1568 [==============================] - 3s 2ms/step - loss: 0.1414 - accuracy: 0.9379\n",
      "Epoch 8/150\n",
      "1568/1568 [==============================] - 4s 2ms/step - loss: 0.1406 - accuracy: 0.9381\n",
      "Epoch 9/150\n",
      "1568/1568 [==============================] - 4s 3ms/step - loss: 0.1402 - accuracy: 0.9382\n",
      "Epoch 10/150\n",
      "1568/1568 [==============================] - 4s 3ms/step - loss: 0.1399 - accuracy: 0.9387\n",
      "Epoch 11/150\n",
      "1568/1568 [==============================] - 4s 3ms/step - loss: 0.1394 - accuracy: 0.9391\n",
      "Epoch 12/150\n",
      "1568/1568 [==============================] - 4s 3ms/step - loss: 0.1393 - accuracy: 0.9391\n",
      "Epoch 13/150\n",
      "1568/1568 [==============================] - 5s 3ms/step - loss: 0.1394 - accuracy: 0.9392\n",
      "Epoch 14/150\n",
      "1568/1568 [==============================] - 5s 3ms/step - loss: 0.1388 - accuracy: 0.9386\n",
      "Epoch 15/150\n",
      "1568/1568 [==============================] - 4s 3ms/step - loss: 0.1389 - accuracy: 0.9394\n",
      "Epoch 16/150\n",
      "1568/1568 [==============================] - 4s 3ms/step - loss: 0.1386 - accuracy: 0.9395\n",
      "Epoch 17/150\n",
      "1568/1568 [==============================] - 4s 3ms/step - loss: 0.1379 - accuracy: 0.9395\n",
      "Epoch 18/150\n",
      "1568/1568 [==============================] - 4s 3ms/step - loss: 0.1382 - accuracy: 0.9403\n",
      "Epoch 19/150\n",
      "1568/1568 [==============================] - 4s 3ms/step - loss: 0.1376 - accuracy: 0.9398\n",
      "Epoch 20/150\n",
      "1568/1568 [==============================] - 5s 3ms/step - loss: 0.1375 - accuracy: 0.9395\n",
      "Epoch 21/150\n",
      "1568/1568 [==============================] - 4s 2ms/step - loss: 0.1374 - accuracy: 0.9398\n",
      "Epoch 22/150\n",
      "1568/1568 [==============================] - 4s 3ms/step - loss: 0.1376 - accuracy: 0.9401\n",
      "Epoch 23/150\n",
      "1568/1568 [==============================] - 4s 3ms/step - loss: 0.1371 - accuracy: 0.9401\n",
      "Epoch 24/150\n",
      "1568/1568 [==============================] - 4s 2ms/step - loss: 0.1368 - accuracy: 0.9403\n",
      "Epoch 25/150\n",
      "1568/1568 [==============================] - 4s 2ms/step - loss: 0.1366 - accuracy: 0.9403\n",
      "Epoch 26/150\n",
      "1568/1568 [==============================] - 4s 2ms/step - loss: 0.1367 - accuracy: 0.9405\n",
      "Epoch 27/150\n",
      "1568/1568 [==============================] - 4s 2ms/step - loss: 0.1363 - accuracy: 0.9404\n",
      "Epoch 28/150\n",
      "1568/1568 [==============================] - 4s 3ms/step - loss: 0.1361 - accuracy: 0.9411\n",
      "Epoch 29/150\n",
      "1568/1568 [==============================] - 4s 3ms/step - loss: 0.1360 - accuracy: 0.9407\n",
      "Epoch 30/150\n",
      "1568/1568 [==============================] - 4s 3ms/step - loss: 0.1358 - accuracy: 0.9413\n",
      "Epoch 31/150\n",
      "1568/1568 [==============================] - 4s 2ms/step - loss: 0.1356 - accuracy: 0.9411\n",
      "Epoch 32/150\n",
      "1568/1568 [==============================] - 4s 2ms/step - loss: 0.1353 - accuracy: 0.9411\n",
      "Epoch 33/150\n",
      "1568/1568 [==============================] - 4s 2ms/step - loss: 0.1351 - accuracy: 0.9412\n",
      "Epoch 34/150\n",
      "1568/1568 [==============================] - 4s 2ms/step - loss: 0.1354 - accuracy: 0.9410\n",
      "Epoch 35/150\n",
      "1568/1568 [==============================] - 4s 2ms/step - loss: 0.1346 - accuracy: 0.9410\n",
      "Epoch 36/150\n",
      "1568/1568 [==============================] - 4s 2ms/step - loss: 0.1346 - accuracy: 0.9417\n",
      "Epoch 37/150\n",
      "1568/1568 [==============================] - 4s 2ms/step - loss: 0.1343 - accuracy: 0.9413\n",
      "Epoch 38/150\n",
      "1568/1568 [==============================] - 4s 2ms/step - loss: 0.1342 - accuracy: 0.9416\n",
      "Epoch 39/150\n",
      "1568/1568 [==============================] - 4s 2ms/step - loss: 0.1341 - accuracy: 0.9414\n",
      "Epoch 40/150\n",
      "1568/1568 [==============================] - 4s 2ms/step - loss: 0.1337 - accuracy: 0.9412\n",
      "Epoch 41/150\n",
      "1568/1568 [==============================] - 4s 2ms/step - loss: 0.1335 - accuracy: 0.9420\n",
      "Epoch 42/150\n",
      "1568/1568 [==============================] - 4s 2ms/step - loss: 0.1333 - accuracy: 0.9420\n",
      "Epoch 43/150\n",
      "1568/1568 [==============================] - 4s 2ms/step - loss: 0.1331 - accuracy: 0.9424\n",
      "Epoch 44/150\n",
      "1568/1568 [==============================] - 4s 2ms/step - loss: 0.1328 - accuracy: 0.9422\n",
      "Epoch 45/150\n",
      "1568/1568 [==============================] - 4s 2ms/step - loss: 0.1330 - accuracy: 0.9422\n",
      "Epoch 46/150\n",
      "1568/1568 [==============================] - 4s 2ms/step - loss: 0.1324 - accuracy: 0.9421\n",
      "Epoch 47/150\n",
      "1568/1568 [==============================] - 4s 2ms/step - loss: 0.1324 - accuracy: 0.9422\n",
      "Epoch 48/150\n",
      "1568/1568 [==============================] - 4s 2ms/step - loss: 0.1322 - accuracy: 0.9427\n",
      "Epoch 49/150\n",
      "1568/1568 [==============================] - 4s 2ms/step - loss: 0.1319 - accuracy: 0.9423\n",
      "Epoch 50/150\n",
      "1568/1568 [==============================] - 4s 2ms/step - loss: 0.1315 - accuracy: 0.9424\n",
      "Epoch 51/150\n",
      "1568/1568 [==============================] - 4s 2ms/step - loss: 0.1321 - accuracy: 0.9423\n",
      "Epoch 52/150\n",
      "1568/1568 [==============================] - 4s 2ms/step - loss: 0.1313 - accuracy: 0.9426\n",
      "Epoch 53/150\n",
      "1568/1568 [==============================] - 4s 2ms/step - loss: 0.1310 - accuracy: 0.9427\n",
      "Epoch 54/150\n",
      "1568/1568 [==============================] - 4s 2ms/step - loss: 0.1307 - accuracy: 0.9427\n",
      "Epoch 55/150\n",
      "1568/1568 [==============================] - 4s 2ms/step - loss: 0.1307 - accuracy: 0.9433\n",
      "Epoch 56/150\n",
      "1568/1568 [==============================] - 4s 2ms/step - loss: 0.1307 - accuracy: 0.9434\n",
      "Epoch 57/150\n",
      "1568/1568 [==============================] - 4s 2ms/step - loss: 0.1300 - accuracy: 0.9433\n",
      "Epoch 58/150\n",
      "1568/1568 [==============================] - 4s 2ms/step - loss: 0.1301 - accuracy: 0.9428\n",
      "Epoch 59/150\n",
      "1568/1568 [==============================] - 4s 2ms/step - loss: 0.1300 - accuracy: 0.9430\n",
      "Epoch 60/150\n",
      "1568/1568 [==============================] - 4s 2ms/step - loss: 0.1297 - accuracy: 0.9431\n",
      "Epoch 61/150\n",
      "1568/1568 [==============================] - 4s 2ms/step - loss: 0.1293 - accuracy: 0.9439\n",
      "Epoch 62/150\n",
      "1568/1568 [==============================] - 4s 2ms/step - loss: 0.1293 - accuracy: 0.9438\n",
      "Epoch 63/150\n",
      "1568/1568 [==============================] - 4s 2ms/step - loss: 0.1288 - accuracy: 0.9434\n",
      "Epoch 64/150\n",
      "1568/1568 [==============================] - 4s 2ms/step - loss: 0.1285 - accuracy: 0.9439\n",
      "Epoch 65/150\n",
      "1568/1568 [==============================] - 4s 2ms/step - loss: 0.1282 - accuracy: 0.9439\n",
      "Epoch 66/150\n",
      "1568/1568 [==============================] - 4s 2ms/step - loss: 0.1277 - accuracy: 0.9442\n",
      "Epoch 67/150\n",
      "1568/1568 [==============================] - 4s 2ms/step - loss: 0.1274 - accuracy: 0.9447\n",
      "Epoch 68/150\n",
      "1568/1568 [==============================] - 4s 2ms/step - loss: 0.1273 - accuracy: 0.9444\n",
      "Epoch 69/150\n",
      "1568/1568 [==============================] - 4s 2ms/step - loss: 0.1273 - accuracy: 0.9448\n",
      "Epoch 70/150\n",
      "1568/1568 [==============================] - 4s 2ms/step - loss: 0.1270 - accuracy: 0.9449\n",
      "Epoch 71/150\n",
      "1568/1568 [==============================] - 4s 2ms/step - loss: 0.1265 - accuracy: 0.9453\n",
      "Epoch 72/150\n",
      "1568/1568 [==============================] - 4s 2ms/step - loss: 0.1265 - accuracy: 0.9453\n",
      "Epoch 73/150\n",
      "1568/1568 [==============================] - 4s 2ms/step - loss: 0.1261 - accuracy: 0.9450\n",
      "Epoch 74/150\n",
      "1568/1568 [==============================] - 4s 2ms/step - loss: 0.1258 - accuracy: 0.9452\n",
      "Epoch 75/150\n",
      "1568/1568 [==============================] - 4s 2ms/step - loss: 0.1255 - accuracy: 0.9454\n",
      "Epoch 76/150\n",
      "1568/1568 [==============================] - 4s 2ms/step - loss: 0.1250 - accuracy: 0.9458\n",
      "Epoch 77/150\n",
      "1568/1568 [==============================] - 4s 2ms/step - loss: 0.1244 - accuracy: 0.9461\n",
      "Epoch 78/150\n",
      "1568/1568 [==============================] - 4s 2ms/step - loss: 0.1242 - accuracy: 0.9458\n",
      "Epoch 79/150\n",
      "1568/1568 [==============================] - 4s 2ms/step - loss: 0.1236 - accuracy: 0.9463\n",
      "Epoch 80/150\n",
      "1568/1568 [==============================] - 4s 2ms/step - loss: 0.1239 - accuracy: 0.9464\n",
      "Epoch 81/150\n",
      "1568/1568 [==============================] - 4s 2ms/step - loss: 0.1234 - accuracy: 0.9466\n",
      "Epoch 82/150\n",
      "1568/1568 [==============================] - 4s 2ms/step - loss: 0.1244 - accuracy: 0.9465\n",
      "Epoch 83/150\n",
      "1568/1568 [==============================] - 4s 2ms/step - loss: 0.1227 - accuracy: 0.9467\n",
      "Epoch 84/150\n",
      "1568/1568 [==============================] - 4s 2ms/step - loss: 0.1221 - accuracy: 0.9469\n",
      "Epoch 85/150\n",
      "1568/1568 [==============================] - 4s 2ms/step - loss: 0.1223 - accuracy: 0.9470\n",
      "Epoch 86/150\n",
      "1568/1568 [==============================] - 4s 2ms/step - loss: 0.1216 - accuracy: 0.9470\n",
      "Epoch 87/150\n",
      "1568/1568 [==============================] - 4s 2ms/step - loss: 0.1213 - accuracy: 0.9474\n",
      "Epoch 88/150\n",
      "1568/1568 [==============================] - 4s 2ms/step - loss: 0.1208 - accuracy: 0.9468\n",
      "Epoch 89/150\n",
      "1568/1568 [==============================] - 4s 2ms/step - loss: 0.1212 - accuracy: 0.9474\n",
      "Epoch 90/150\n",
      "1568/1568 [==============================] - 4s 2ms/step - loss: 0.1204 - accuracy: 0.9477\n",
      "Epoch 91/150\n",
      "1568/1568 [==============================] - 4s 2ms/step - loss: 0.1208 - accuracy: 0.9474\n",
      "Epoch 92/150\n",
      "1568/1568 [==============================] - 4s 2ms/step - loss: 0.1193 - accuracy: 0.9481\n",
      "Epoch 93/150\n",
      "1568/1568 [==============================] - 4s 2ms/step - loss: 0.1191 - accuracy: 0.9488\n",
      "Epoch 94/150\n",
      "1568/1568 [==============================] - 4s 2ms/step - loss: 0.1209 - accuracy: 0.9483\n",
      "Epoch 95/150\n",
      "1568/1568 [==============================] - 4s 3ms/step - loss: 0.1184 - accuracy: 0.9485\n",
      "Epoch 96/150\n",
      "1568/1568 [==============================] - 4s 2ms/step - loss: 0.1179 - accuracy: 0.9487\n",
      "Epoch 97/150\n",
      "1568/1568 [==============================] - 4s 2ms/step - loss: 0.1181 - accuracy: 0.9489\n",
      "Epoch 98/150\n",
      "1568/1568 [==============================] - 4s 2ms/step - loss: 0.1183 - accuracy: 0.9482\n",
      "Epoch 99/150\n",
      "1568/1568 [==============================] - 4s 2ms/step - loss: 0.1176 - accuracy: 0.9490\n",
      "Epoch 100/150\n",
      "1568/1568 [==============================] - 4s 2ms/step - loss: 0.1172 - accuracy: 0.9493\n",
      "Epoch 101/150\n",
      "1568/1568 [==============================] - 4s 2ms/step - loss: 0.1165 - accuracy: 0.9495\n",
      "Epoch 102/150\n",
      "1568/1568 [==============================] - 4s 2ms/step - loss: 0.1163 - accuracy: 0.9500\n",
      "Epoch 103/150\n",
      "1568/1568 [==============================] - 4s 2ms/step - loss: 0.1160 - accuracy: 0.9500\n",
      "Epoch 104/150\n",
      "1568/1568 [==============================] - 4s 2ms/step - loss: 0.1153 - accuracy: 0.9503\n",
      "Epoch 105/150\n",
      "1568/1568 [==============================] - 4s 2ms/step - loss: 0.1153 - accuracy: 0.9501\n",
      "Epoch 106/150\n",
      "1568/1568 [==============================] - 4s 2ms/step - loss: 0.1153 - accuracy: 0.9501\n",
      "Epoch 107/150\n",
      "1568/1568 [==============================] - 4s 2ms/step - loss: 0.1144 - accuracy: 0.9499\n",
      "Epoch 108/150\n",
      "1568/1568 [==============================] - 4s 2ms/step - loss: 0.1143 - accuracy: 0.9508\n",
      "Epoch 109/150\n",
      "1568/1568 [==============================] - 4s 2ms/step - loss: 0.1135 - accuracy: 0.9510\n",
      "Epoch 110/150\n",
      "1568/1568 [==============================] - 4s 2ms/step - loss: 0.1134 - accuracy: 0.9509\n",
      "Epoch 111/150\n",
      "1568/1568 [==============================] - 4s 2ms/step - loss: 0.1135 - accuracy: 0.9512\n",
      "Epoch 112/150\n",
      "1568/1568 [==============================] - 4s 2ms/step - loss: 0.1131 - accuracy: 0.9519\n",
      "Epoch 113/150\n",
      "1568/1568 [==============================] - 4s 2ms/step - loss: 0.1122 - accuracy: 0.9520\n",
      "Epoch 114/150\n",
      "1568/1568 [==============================] - 4s 3ms/step - loss: 0.1115 - accuracy: 0.9522\n",
      "Epoch 115/150\n",
      "1568/1568 [==============================] - 4s 2ms/step - loss: 0.1122 - accuracy: 0.9517\n",
      "Epoch 116/150\n",
      "1568/1568 [==============================] - 4s 2ms/step - loss: 0.1116 - accuracy: 0.9521\n",
      "Epoch 117/150\n",
      "1568/1568 [==============================] - 4s 2ms/step - loss: 0.1130 - accuracy: 0.9530\n",
      "Epoch 118/150\n",
      "1568/1568 [==============================] - 4s 2ms/step - loss: 0.1106 - accuracy: 0.9521\n",
      "Epoch 119/150\n",
      "1568/1568 [==============================] - 4s 2ms/step - loss: 0.1100 - accuracy: 0.9526\n",
      "Epoch 120/150\n",
      "1568/1568 [==============================] - 4s 3ms/step - loss: 0.1103 - accuracy: 0.9521\n",
      "Epoch 121/150\n",
      "1568/1568 [==============================] - 4s 2ms/step - loss: 0.1097 - accuracy: 0.9529\n",
      "Epoch 122/150\n",
      "1568/1568 [==============================] - 4s 2ms/step - loss: 0.1091 - accuracy: 0.9534\n",
      "Epoch 123/150\n",
      "1568/1568 [==============================] - 4s 2ms/step - loss: 0.1123 - accuracy: 0.9523\n",
      "Epoch 124/150\n",
      "1568/1568 [==============================] - 4s 2ms/step - loss: 0.1084 - accuracy: 0.9533\n",
      "Epoch 125/150\n",
      "1568/1568 [==============================] - 4s 2ms/step - loss: 0.1083 - accuracy: 0.9540\n",
      "Epoch 126/150\n",
      "1568/1568 [==============================] - 4s 2ms/step - loss: 0.1075 - accuracy: 0.9540\n",
      "Epoch 127/150\n",
      "1568/1568 [==============================] - 4s 2ms/step - loss: 0.1077 - accuracy: 0.9541\n",
      "Epoch 128/150\n",
      "1568/1568 [==============================] - 4s 2ms/step - loss: 0.1074 - accuracy: 0.9541\n",
      "Epoch 129/150\n",
      "1568/1568 [==============================] - 4s 2ms/step - loss: 0.1081 - accuracy: 0.9541\n",
      "Epoch 130/150\n",
      "1568/1568 [==============================] - 4s 2ms/step - loss: 0.1068 - accuracy: 0.9543\n",
      "Epoch 131/150\n",
      "1568/1568 [==============================] - 4s 2ms/step - loss: 0.1056 - accuracy: 0.9553\n",
      "Epoch 132/150\n",
      "1568/1568 [==============================] - 4s 2ms/step - loss: 0.1058 - accuracy: 0.9547\n",
      "Epoch 133/150\n",
      "1568/1568 [==============================] - 4s 2ms/step - loss: 0.1054 - accuracy: 0.9549\n",
      "Epoch 134/150\n",
      "1568/1568 [==============================] - 4s 2ms/step - loss: 0.1048 - accuracy: 0.9552\n",
      "Epoch 135/150\n",
      "1568/1568 [==============================] - 4s 2ms/step - loss: 0.1052 - accuracy: 0.9550\n",
      "Epoch 136/150\n",
      "1568/1568 [==============================] - 4s 2ms/step - loss: 0.1049 - accuracy: 0.9547\n",
      "Epoch 137/150\n",
      "1568/1568 [==============================] - 4s 2ms/step - loss: 0.1047 - accuracy: 0.9554\n",
      "Epoch 138/150\n",
      "1568/1568 [==============================] - 4s 2ms/step - loss: 0.1047 - accuracy: 0.9558\n",
      "Epoch 139/150\n",
      "1568/1568 [==============================] - 4s 2ms/step - loss: 0.1046 - accuracy: 0.9552\n",
      "Epoch 140/150\n",
      "1568/1568 [==============================] - 4s 2ms/step - loss: 0.1037 - accuracy: 0.9559\n",
      "Epoch 141/150\n",
      "1568/1568 [==============================] - 4s 2ms/step - loss: 0.1038 - accuracy: 0.9560\n",
      "Epoch 142/150\n",
      "1568/1568 [==============================] - 4s 2ms/step - loss: 0.1034 - accuracy: 0.9561\n",
      "Epoch 143/150\n",
      "1568/1568 [==============================] - 4s 2ms/step - loss: 0.1026 - accuracy: 0.9566\n",
      "Epoch 144/150\n",
      "1568/1568 [==============================] - 4s 2ms/step - loss: 0.1026 - accuracy: 0.9563\n",
      "Epoch 145/150\n",
      "1568/1568 [==============================] - 4s 2ms/step - loss: 0.1019 - accuracy: 0.9570\n",
      "Epoch 146/150\n",
      "1568/1568 [==============================] - 4s 2ms/step - loss: 0.1013 - accuracy: 0.9569\n",
      "Epoch 147/150\n",
      "1568/1568 [==============================] - 4s 2ms/step - loss: 0.1014 - accuracy: 0.9569\n",
      "Epoch 148/150\n",
      "1568/1568 [==============================] - 4s 2ms/step - loss: 0.1017 - accuracy: 0.9562\n",
      "Epoch 149/150\n",
      "1568/1568 [==============================] - 4s 2ms/step - loss: 0.1031 - accuracy: 0.9571\n",
      "Epoch 150/150\n",
      "1568/1568 [==============================] - 4s 2ms/step - loss: 0.1014 - accuracy: 0.9576\n"
     ]
    },
    {
     "data": {
      "text/plain": [
       "<keras.callbacks.History at 0x193f1632a90>"
      ]
     },
     "execution_count": 32,
     "metadata": {},
     "output_type": "execute_result"
    }
   ],
   "source": [
    "classifier = Sequential()\n",
    "classifier.add(Dense(units=100, input_dim=17, kernel_initializer='uniform', activation=LeakyReLU(alpha=0.1)))\n",
    "classifier.add(Dense(units=60, kernel_initializer='uniform', activation=LeakyReLU(alpha=0.1)))\n",
    "classifier.add(Dense(units=50, kernel_initializer='uniform', activation=PReLU(alpha_initializer='zeros')))\n",
    "classifier.add(Dense(units=40, kernel_initializer='uniform', activation=PReLU(alpha_initializer='zeros')))\n",
    "classifier.add(Dense(units=30, kernel_initializer='uniform', activation=PReLU(alpha_initializer='zeros')))\n",
    "classifier.add(Dense(units=20, kernel_initializer='uniform', activation=PReLU(alpha_initializer='zeros')))\n",
    "classifier.add(Dense(units=19, kernel_initializer='uniform', activation=PReLU(alpha_initializer='zeros')))\n",
    "classifier.add(Dense(units=18, kernel_initializer='uniform', activation='relu'))\n",
    "classifier.add(Dense(units=14, kernel_initializer='uniform', activation='relu'))\n",
    "classifier.add(Dense(units=1, kernel_initializer='uniform', activation='sigmoid'))\n",
    "\n",
    "classifier.compile(optimizer='adam', loss='binary_crossentropy', metrics=['accuracy'])\n",
    "\n",
    "# fitting the Neural Network on the training data\n",
    "classifier.fit(x_train,y_train.astype(int), batch_size=50 , epochs=150, verbose=1)\n",
    " "
   ]
  },
  {
   "cell_type": "code",
   "execution_count": 33,
   "metadata": {},
   "outputs": [],
   "source": [
    "# equivalent to: model.save(\"model.h5\")\n",
    "from keras.models import save_model\n",
    "save_model(classifier, \"model_DeepV2.h5\")"
   ]
  },
  {
   "cell_type": "code",
   "execution_count": 20,
   "metadata": {},
   "outputs": [],
   "source": [
    "type(x_train)\n",
    "#dfx_train=pd.DataFrame(x_train)\n",
    "#dfy_train=pd.DataFrame(y_train)\n",
    "#dfx_test=pd.DataFrame(x_test)\n",
    "#dfy_test=pd.DataFrame(y_test)"
   ]
  },
  {
   "cell_type": "code",
   "execution_count": 23,
   "metadata": {},
   "outputs": [],
   "source": [
    "#PReLU(alpha_initializer='zeros')\n",
    "#model.add(LeakyReLU(alpha=leaky_relu_alpha))\n",
    "#LeakyReLU(alpha=0.1)\n",
    "\n",
    "\n",
    "#dfx_train.to_csv('x_train.csv')\n",
    "#dfy_train.to_csv('y_train.csv')\n",
    "#dfx_test.to_csv('x_test.csv')\n",
    "#dfy_test.to_csv('y_test.csv')"
   ]
  },
  {
   "cell_type": "code",
   "execution_count": 28,
   "metadata": {},
   "outputs": [
    {
     "name": "stdout",
     "output_type": "stream",
     "text": [
      "1 Parameters: batch_size: 10 - epochs: 50 Accuracy: 0.942216157913208\n"
     ]
    },
    {
     "name": "stderr",
     "output_type": "stream",
     "text": [
      "C:\\Users\\igor-\\AppData\\Local\\Temp\\ipykernel_28952\\2747282679.py:39: FutureWarning: The frame.append method is deprecated and will be removed from pandas in a future version. Use pandas.concat instead.\n",
      "  SearchResultsData=SearchResultsData.append(pd.DataFrame(data=[[TrialNumber,\n"
     ]
    },
    {
     "name": "stdout",
     "output_type": "stream",
     "text": [
      "2 Parameters: batch_size: 10 - epochs: 100 Accuracy: 0.9452661275863647\n"
     ]
    },
    {
     "name": "stderr",
     "output_type": "stream",
     "text": [
      "C:\\Users\\igor-\\AppData\\Local\\Temp\\ipykernel_28952\\2747282679.py:39: FutureWarning: The frame.append method is deprecated and will be removed from pandas in a future version. Use pandas.concat instead.\n",
      "  SearchResultsData=SearchResultsData.append(pd.DataFrame(data=[[TrialNumber,\n"
     ]
    },
    {
     "name": "stdout",
     "output_type": "stream",
     "text": [
      "3 Parameters: batch_size: 10 - epochs: 150 Accuracy: 0.9510470628738403\n"
     ]
    },
    {
     "name": "stderr",
     "output_type": "stream",
     "text": [
      "C:\\Users\\igor-\\AppData\\Local\\Temp\\ipykernel_28952\\2747282679.py:39: FutureWarning: The frame.append method is deprecated and will be removed from pandas in a future version. Use pandas.concat instead.\n",
      "  SearchResultsData=SearchResultsData.append(pd.DataFrame(data=[[TrialNumber,\n"
     ]
    },
    {
     "name": "stdout",
     "output_type": "stream",
     "text": [
      "4 Parameters: batch_size: 15 - epochs: 50 Accuracy: 0.942509651184082\n"
     ]
    },
    {
     "name": "stderr",
     "output_type": "stream",
     "text": [
      "C:\\Users\\igor-\\AppData\\Local\\Temp\\ipykernel_28952\\2747282679.py:39: FutureWarning: The frame.append method is deprecated and will be removed from pandas in a future version. Use pandas.concat instead.\n",
      "  SearchResultsData=SearchResultsData.append(pd.DataFrame(data=[[TrialNumber,\n"
     ]
    },
    {
     "name": "stdout",
     "output_type": "stream",
     "text": [
      "5 Parameters: batch_size: 15 - epochs: 100 Accuracy: 0.9483289122581482\n"
     ]
    },
    {
     "name": "stderr",
     "output_type": "stream",
     "text": [
      "C:\\Users\\igor-\\AppData\\Local\\Temp\\ipykernel_28952\\2747282679.py:39: FutureWarning: The frame.append method is deprecated and will be removed from pandas in a future version. Use pandas.concat instead.\n",
      "  SearchResultsData=SearchResultsData.append(pd.DataFrame(data=[[TrialNumber,\n"
     ]
    },
    {
     "name": "stdout",
     "output_type": "stream",
     "text": [
      "6 Parameters: batch_size: 15 - epochs: 150 Accuracy: 0.9500644207000732\n"
     ]
    },
    {
     "name": "stderr",
     "output_type": "stream",
     "text": [
      "C:\\Users\\igor-\\AppData\\Local\\Temp\\ipykernel_28952\\2747282679.py:39: FutureWarning: The frame.append method is deprecated and will be removed from pandas in a future version. Use pandas.concat instead.\n",
      "  SearchResultsData=SearchResultsData.append(pd.DataFrame(data=[[TrialNumber,\n"
     ]
    },
    {
     "name": "stdout",
     "output_type": "stream",
     "text": [
      "7 Parameters: batch_size: 20 - epochs: 50 Accuracy: 0.9422544240951538\n"
     ]
    },
    {
     "name": "stderr",
     "output_type": "stream",
     "text": [
      "C:\\Users\\igor-\\AppData\\Local\\Temp\\ipykernel_28952\\2747282679.py:39: FutureWarning: The frame.append method is deprecated and will be removed from pandas in a future version. Use pandas.concat instead.\n",
      "  SearchResultsData=SearchResultsData.append(pd.DataFrame(data=[[TrialNumber,\n"
     ]
    },
    {
     "name": "stdout",
     "output_type": "stream",
     "text": [
      "8 Parameters: batch_size: 20 - epochs: 100 Accuracy: 0.949209451675415\n"
     ]
    },
    {
     "name": "stderr",
     "output_type": "stream",
     "text": [
      "C:\\Users\\igor-\\AppData\\Local\\Temp\\ipykernel_28952\\2747282679.py:39: FutureWarning: The frame.append method is deprecated and will be removed from pandas in a future version. Use pandas.concat instead.\n",
      "  SearchResultsData=SearchResultsData.append(pd.DataFrame(data=[[TrialNumber,\n"
     ]
    },
    {
     "name": "stdout",
     "output_type": "stream",
     "text": [
      "9 Parameters: batch_size: 20 - epochs: 150 Accuracy: 0.9516978859901428\n"
     ]
    },
    {
     "name": "stderr",
     "output_type": "stream",
     "text": [
      "C:\\Users\\igor-\\AppData\\Local\\Temp\\ipykernel_28952\\2747282679.py:39: FutureWarning: The frame.append method is deprecated and will be removed from pandas in a future version. Use pandas.concat instead.\n",
      "  SearchResultsData=SearchResultsData.append(pd.DataFrame(data=[[TrialNumber,\n"
     ]
    },
    {
     "name": "stdout",
     "output_type": "stream",
     "text": [
      "10 Parameters: batch_size: 25 - epochs: 50 Accuracy: 0.9427266120910645\n"
     ]
    },
    {
     "name": "stderr",
     "output_type": "stream",
     "text": [
      "C:\\Users\\igor-\\AppData\\Local\\Temp\\ipykernel_28952\\2747282679.py:39: FutureWarning: The frame.append method is deprecated and will be removed from pandas in a future version. Use pandas.concat instead.\n",
      "  SearchResultsData=SearchResultsData.append(pd.DataFrame(data=[[TrialNumber,\n"
     ]
    },
    {
     "name": "stdout",
     "output_type": "stream",
     "text": [
      "11 Parameters: batch_size: 25 - epochs: 100 Accuracy: 0.9472951889038086\n"
     ]
    },
    {
     "name": "stderr",
     "output_type": "stream",
     "text": [
      "C:\\Users\\igor-\\AppData\\Local\\Temp\\ipykernel_28952\\2747282679.py:39: FutureWarning: The frame.append method is deprecated and will be removed from pandas in a future version. Use pandas.concat instead.\n",
      "  SearchResultsData=SearchResultsData.append(pd.DataFrame(data=[[TrialNumber,\n"
     ]
    },
    {
     "name": "stdout",
     "output_type": "stream",
     "text": [
      "12 Parameters: batch_size: 25 - epochs: 150 Accuracy: 0.953356921672821\n"
     ]
    },
    {
     "name": "stderr",
     "output_type": "stream",
     "text": [
      "C:\\Users\\igor-\\AppData\\Local\\Temp\\ipykernel_28952\\2747282679.py:39: FutureWarning: The frame.append method is deprecated and will be removed from pandas in a future version. Use pandas.concat instead.\n",
      "  SearchResultsData=SearchResultsData.append(pd.DataFrame(data=[[TrialNumber,\n"
     ]
    },
    {
     "name": "stdout",
     "output_type": "stream",
     "text": [
      "13 Parameters: batch_size: 50 - epochs: 50 Accuracy: 0.9420502781867981\n"
     ]
    },
    {
     "name": "stderr",
     "output_type": "stream",
     "text": [
      "C:\\Users\\igor-\\AppData\\Local\\Temp\\ipykernel_28952\\2747282679.py:39: FutureWarning: The frame.append method is deprecated and will be removed from pandas in a future version. Use pandas.concat instead.\n",
      "  SearchResultsData=SearchResultsData.append(pd.DataFrame(data=[[TrialNumber,\n"
     ]
    },
    {
     "name": "stdout",
     "output_type": "stream",
     "text": [
      "14 Parameters: batch_size: 50 - epochs: 100 Accuracy: 0.9520552158355713\n"
     ]
    },
    {
     "name": "stderr",
     "output_type": "stream",
     "text": [
      "C:\\Users\\igor-\\AppData\\Local\\Temp\\ipykernel_28952\\2747282679.py:39: FutureWarning: The frame.append method is deprecated and will be removed from pandas in a future version. Use pandas.concat instead.\n",
      "  SearchResultsData=SearchResultsData.append(pd.DataFrame(data=[[TrialNumber,\n"
     ]
    },
    {
     "name": "stdout",
     "output_type": "stream",
     "text": [
      "15 Parameters: batch_size: 50 - epochs: 150 Accuracy: 0.9531399607658386\n"
     ]
    },
    {
     "name": "stderr",
     "output_type": "stream",
     "text": [
      "C:\\Users\\igor-\\AppData\\Local\\Temp\\ipykernel_28952\\2747282679.py:39: FutureWarning: The frame.append method is deprecated and will be removed from pandas in a future version. Use pandas.concat instead.\n",
      "  SearchResultsData=SearchResultsData.append(pd.DataFrame(data=[[TrialNumber,\n"
     ]
    }
   ],
   "source": [
    "y_bin = y_train.astype(int)\n",
    "# Defining a function for finding best hyperparameters\n",
    "def FunctionFindBestParams(x_train, y_bin):\n",
    "    \n",
    "    # Defining the list of hyper parameters to try\n",
    "    TrialNumber=0\n",
    "    batch_size_list=[10, 15, 20, 25, 50]\n",
    "    epoch_list=[50 ,100, 150]\n",
    "    \n",
    "    import pandas as pd\n",
    "    SearchResultsData=pd.DataFrame(columns=['TrialNumber', 'Parameters', 'Accuracy'])\n",
    "    \n",
    "    for batch_size_trial in batch_size_list:\n",
    "        for epochs_trial in epoch_list:\n",
    "            TrialNumber+=1\n",
    "            \n",
    "            # Creating the classifier ANN model\n",
    "            classifier = Sequential()\n",
    "            classifier.add(Dense(units=100, input_dim=17, kernel_initializer='uniform', activation=LeakyReLU(alpha=0.1)))\n",
    "            classifier.add(Dense(units=60, kernel_initializer='uniform', activation=LeakyReLU(alpha=0.1)))\n",
    "            classifier.add(Dense(units=50, kernel_initializer='uniform', activation=PReLU(alpha_initializer='zeros')))\n",
    "            classifier.add(Dense(units=40, kernel_initializer='uniform', activation=PReLU(alpha_initializer='zeros')))\n",
    "            classifier.add(Dense(units=30, kernel_initializer='uniform', activation=PReLU(alpha_initializer='zeros')))\n",
    "            classifier.add(Dense(units=20, kernel_initializer='uniform', activation=PReLU(alpha_initializer='zeros')))\n",
    "            classifier.add(Dense(units=19, kernel_initializer='uniform', activation=PReLU(alpha_initializer='zeros')))\n",
    "            classifier.add(Dense(units=18, kernel_initializer='uniform', activation='relu'))\n",
    "            classifier.add(Dense(units=14, kernel_initializer='uniform', activation='relu'))\n",
    "            classifier.add(Dense(units=1, kernel_initializer='uniform', activation='sigmoid'))\n",
    "            classifier.compile(optimizer='adam', loss='binary_crossentropy', metrics=['accuracy'])\n",
    " \n",
    "            \n",
    "            survivalANN_Model=classifier.fit(x_train,y_bin, batch_size=batch_size_trial , epochs=epochs_trial, verbose=0)\n",
    "            # Fetching the accuracy of the training\n",
    "            Accuracy = survivalANN_Model.history['accuracy'][-1]\n",
    "            # printing the results of the current iteration\n",
    "            print(TrialNumber, 'Parameters:','batch_size:', batch_size_trial,'-', 'epochs:',epochs_trial, 'Accuracy:', Accuracy)\n",
    "            \n",
    "            SearchResultsData=SearchResultsData.append(pd.DataFrame(data=[[TrialNumber,\n",
    "                            'batch_size'+str(batch_size_trial)+'-'+'epoch'+str(epochs_trial), Accuracy]],\n",
    "                                                                    columns=['TrialNumber', 'Parameters', 'Accuracy'] ))\n",
    "    return(SearchResultsData)\n",
    " \n",
    "###############################################\n",
    " \n",
    "# Calling the function\n",
    "ResultsData=FunctionFindBestParams(x_train, y_bin)\n",
    "\n",
    "#Mudanças possíveis\n",
    "#Otimizador rmsprop\n",
    "\n",
    "\n"
   ]
  },
  {
   "cell_type": "code",
   "execution_count": 26,
   "metadata": {},
   "outputs": [
    {
     "data": {
      "text/html": [
       "<div>\n",
       "<style scoped>\n",
       "    .dataframe tbody tr th:only-of-type {\n",
       "        vertical-align: middle;\n",
       "    }\n",
       "\n",
       "    .dataframe tbody tr th {\n",
       "        vertical-align: top;\n",
       "    }\n",
       "\n",
       "    .dataframe thead th {\n",
       "        text-align: right;\n",
       "    }\n",
       "</style>\n",
       "<table border=\"1\" class=\"dataframe\">\n",
       "  <thead>\n",
       "    <tr style=\"text-align: right;\">\n",
       "      <th></th>\n",
       "      <th>TrialNumber</th>\n",
       "      <th>Parameters</th>\n",
       "      <th>Accuracy</th>\n",
       "    </tr>\n",
       "  </thead>\n",
       "  <tbody>\n",
       "    <tr>\n",
       "      <th>0</th>\n",
       "      <td>1</td>\n",
       "      <td>batch_size10-epoch50</td>\n",
       "      <td>0.941604</td>\n",
       "    </tr>\n",
       "    <tr>\n",
       "      <th>0</th>\n",
       "      <td>2</td>\n",
       "      <td>batch_size10-epoch100</td>\n",
       "      <td>0.946861</td>\n",
       "    </tr>\n",
       "    <tr>\n",
       "      <th>0</th>\n",
       "      <td>3</td>\n",
       "      <td>batch_size10-epoch150</td>\n",
       "      <td>0.948610</td>\n",
       "    </tr>\n",
       "    <tr>\n",
       "      <th>0</th>\n",
       "      <td>4</td>\n",
       "      <td>batch_size15-epoch50</td>\n",
       "      <td>0.943352</td>\n",
       "    </tr>\n",
       "    <tr>\n",
       "      <th>0</th>\n",
       "      <td>5</td>\n",
       "      <td>batch_size15-epoch100</td>\n",
       "      <td>0.949095</td>\n",
       "    </tr>\n",
       "    <tr>\n",
       "      <th>0</th>\n",
       "      <td>6</td>\n",
       "      <td>batch_size15-epoch150</td>\n",
       "      <td>0.951787</td>\n",
       "    </tr>\n",
       "    <tr>\n",
       "      <th>0</th>\n",
       "      <td>7</td>\n",
       "      <td>batch_size20-epoch50</td>\n",
       "      <td>0.942152</td>\n",
       "    </tr>\n",
       "    <tr>\n",
       "      <th>0</th>\n",
       "      <td>8</td>\n",
       "      <td>batch_size20-epoch100</td>\n",
       "      <td>0.947844</td>\n",
       "    </tr>\n",
       "    <tr>\n",
       "      <th>0</th>\n",
       "      <td>9</td>\n",
       "      <td>batch_size20-epoch150</td>\n",
       "      <td>0.953893</td>\n",
       "    </tr>\n",
       "    <tr>\n",
       "      <th>0</th>\n",
       "      <td>10</td>\n",
       "      <td>batch_size25-epoch50</td>\n",
       "      <td>0.942790</td>\n",
       "    </tr>\n",
       "    <tr>\n",
       "      <th>0</th>\n",
       "      <td>11</td>\n",
       "      <td>batch_size25-epoch100</td>\n",
       "      <td>0.948508</td>\n",
       "    </tr>\n",
       "    <tr>\n",
       "      <th>0</th>\n",
       "      <td>12</td>\n",
       "      <td>batch_size25-epoch150</td>\n",
       "      <td>0.952476</td>\n",
       "    </tr>\n",
       "    <tr>\n",
       "      <th>0</th>\n",
       "      <td>13</td>\n",
       "      <td>batch_size50-epoch50</td>\n",
       "      <td>0.942599</td>\n",
       "    </tr>\n",
       "    <tr>\n",
       "      <th>0</th>\n",
       "      <td>14</td>\n",
       "      <td>batch_size50-epoch100</td>\n",
       "      <td>0.949503</td>\n",
       "    </tr>\n",
       "    <tr>\n",
       "      <th>0</th>\n",
       "      <td>15</td>\n",
       "      <td>batch_size50-epoch150</td>\n",
       "      <td>0.954544</td>\n",
       "    </tr>\n",
       "  </tbody>\n",
       "</table>\n",
       "</div>"
      ],
      "text/plain": [
       "  TrialNumber             Parameters  Accuracy\n",
       "0           1   batch_size10-epoch50  0.941604\n",
       "0           2  batch_size10-epoch100  0.946861\n",
       "0           3  batch_size10-epoch150  0.948610\n",
       "0           4   batch_size15-epoch50  0.943352\n",
       "0           5  batch_size15-epoch100  0.949095\n",
       "0           6  batch_size15-epoch150  0.951787\n",
       "0           7   batch_size20-epoch50  0.942152\n",
       "0           8  batch_size20-epoch100  0.947844\n",
       "0           9  batch_size20-epoch150  0.953893\n",
       "0          10   batch_size25-epoch50  0.942790\n",
       "0          11  batch_size25-epoch100  0.948508\n",
       "0          12  batch_size25-epoch150  0.952476\n",
       "0          13   batch_size50-epoch50  0.942599\n",
       "0          14  batch_size50-epoch100  0.949503\n",
       "0          15  batch_size50-epoch150  0.954544"
      ]
     },
     "execution_count": 26,
     "metadata": {},
     "output_type": "execute_result"
    }
   ],
   "source": [
    "ResultsData"
   ]
  },
  {
   "cell_type": "code",
   "execution_count": 61,
   "metadata": {},
   "outputs": [
    {
     "name": "stdout",
     "output_type": "stream",
     "text": [
      "  TrialNumber             Parameters  Accuracy\n",
      "0          12  batch_size15-epoch100  0.942548\n"
     ]
    },
    {
     "data": {
      "text/plain": [
       "<AxesSubplot: xlabel='Parameters'>"
      ]
     },
     "execution_count": 61,
     "metadata": {},
     "output_type": "execute_result"
    },
    {
     "data": {
      "image/png": "[encoded data removed]",
      "text/plain": [
       "<Figure size 1500x400 with 1 Axes>"
      ]
     },
     "metadata": {},
     "output_type": "display_data"
    }
   ],
   "source": [
    "\n",
    "# Printing the best parameter\n",
    "print(ResultsData.sort_values(by='Accuracy', ascending=False).head(1))\n",
    " \n",
    "\n",
    "# Visualizing the results\n",
    "%matplotlib inline\n",
    "ResultsData.plot(x='Parameters', y='Accuracy', figsize=(15,4), kind='line', rot=20)"
   ]
  },
  {
   "cell_type": "code",
   "execution_count": 105,
   "metadata": {},
   "outputs": [
    {
     "name": "stdout",
     "output_type": "stream",
     "text": [
      "0 <keras.layers.core.dense.Dense object at 0x000001F8CC00D910>\n",
      "     <keras.layers.activation.prelu.PReLU object at 0x000001F8CBC3FE20>\n",
      "1 <keras.layers.core.dense.Dense object at 0x000001F8CC082AC0>\n",
      "     <keras.layers.activation.prelu.PReLU object at 0x000001F8CBC3FC70>\n",
      "2 <keras.layers.core.dense.Dense object at 0x000001F8CB819D30>\n",
      "     <keras.layers.activation.prelu.PReLU object at 0x000001F8616436D0>\n",
      "3 <keras.layers.core.dense.Dense object at 0x000001F8CB819460>\n",
      "     <keras.layers.activation.prelu.PReLU object at 0x000001F8CC086340>\n",
      "4 <keras.layers.core.dense.Dense object at 0x000001F8A153F8B0>\n",
      "     <keras.layers.activation.prelu.PReLU object at 0x000001F86A2BDA90>\n",
      "5 <keras.layers.core.dense.Dense object at 0x000001F8A153F5E0>\n",
      "     <keras.layers.activation.prelu.PReLU object at 0x000001F8CB819220>\n",
      "6 <keras.layers.core.dense.Dense object at 0x000001F8629ABEB0>\n",
      "     <keras.layers.activation.prelu.PReLU object at 0x000001F8CBCB54F0>\n",
      "7 <keras.layers.core.dense.Dense object at 0x000001F84E6AB070>\n",
      "     <function sigmoid at 0x000001F8553ACAF0>\n"
     ]
    }
   ],
   "source": [
    "for i, layer in enumerate (classifier.layers):\n",
    "    print (i, layer)\n",
    "    try:\n",
    "        print (\"    \",layer.activation)\n",
    "    except AttributeError:\n",
    "        print('   no activation attribute')"
   ]
  },
  {
   "cell_type": "code",
   "execution_count": 113,
   "metadata": {},
   "outputs": [
    {
     "name": "stdout",
     "output_type": "stream",
     "text": [
      "Epoch 1/100\n",
      "3135/3135 [==============================] - 7s 2ms/step - loss: 0.1350 - accuracy: 0.9408\n",
      "Epoch 2/100\n",
      "3135/3135 [==============================] - 6s 2ms/step - loss: 0.1347 - accuracy: 0.9416\n",
      "Epoch 3/100\n",
      "3135/3135 [==============================] - 7s 2ms/step - loss: 0.1349 - accuracy: 0.9410\n",
      "Epoch 4/100\n",
      "3135/3135 [==============================] - 7s 2ms/step - loss: 0.1347 - accuracy: 0.9413\n",
      "Epoch 5/100\n",
      "3135/3135 [==============================] - 6s 2ms/step - loss: 0.1350 - accuracy: 0.9408\n",
      "Epoch 6/100\n",
      "3135/3135 [==============================] - 6s 2ms/step - loss: 0.1348 - accuracy: 0.9406\n",
      "Epoch 7/100\n",
      "3135/3135 [==============================] - 6s 2ms/step - loss: 0.1345 - accuracy: 0.9409\n",
      "Epoch 8/100\n",
      "3135/3135 [==============================] - 6s 2ms/step - loss: 0.1344 - accuracy: 0.9410\n",
      "Epoch 9/100\n",
      "3135/3135 [==============================] - 6s 2ms/step - loss: 0.1346 - accuracy: 0.9411\n",
      "Epoch 10/100\n",
      "3135/3135 [==============================] - 6s 2ms/step - loss: 0.1346 - accuracy: 0.9412\n",
      "Epoch 11/100\n",
      "3135/3135 [==============================] - 6s 2ms/step - loss: 0.1346 - accuracy: 0.9412\n",
      "Epoch 12/100\n",
      "3135/3135 [==============================] - 6s 2ms/step - loss: 0.1344 - accuracy: 0.9411\n",
      "Epoch 13/100\n",
      "3135/3135 [==============================] - 6s 2ms/step - loss: 0.1345 - accuracy: 0.9410\n",
      "Epoch 14/100\n",
      "3135/3135 [==============================] - 6s 2ms/step - loss: 0.1344 - accuracy: 0.9409\n",
      "Epoch 15/100\n",
      "3135/3135 [==============================] - 6s 2ms/step - loss: 0.1343 - accuracy: 0.9414\n",
      "Epoch 16/100\n",
      "3135/3135 [==============================] - 6s 2ms/step - loss: 0.1344 - accuracy: 0.9410\n",
      "Epoch 17/100\n",
      "3135/3135 [==============================] - 6s 2ms/step - loss: 0.1341 - accuracy: 0.9414\n",
      "Epoch 18/100\n",
      "3135/3135 [==============================] - 6s 2ms/step - loss: 0.1339 - accuracy: 0.9414\n",
      "Epoch 19/100\n",
      "3135/3135 [==============================] - 6s 2ms/step - loss: 0.1340 - accuracy: 0.9410\n",
      "Epoch 20/100\n",
      "3135/3135 [==============================] - 6s 2ms/step - loss: 0.1340 - accuracy: 0.9409\n",
      "Epoch 21/100\n",
      "3135/3135 [==============================] - 7s 2ms/step - loss: 0.1340 - accuracy: 0.9413\n",
      "Epoch 22/100\n",
      "3135/3135 [==============================] - 7s 2ms/step - loss: 0.1341 - accuracy: 0.9410\n",
      "Epoch 23/100\n",
      "3135/3135 [==============================] - 7s 2ms/step - loss: 0.1337 - accuracy: 0.9411\n",
      "Epoch 24/100\n",
      "3135/3135 [==============================] - 6s 2ms/step - loss: 0.1339 - accuracy: 0.9414\n",
      "Epoch 25/100\n",
      "3135/3135 [==============================] - 6s 2ms/step - loss: 0.1337 - accuracy: 0.9418\n",
      "Epoch 26/100\n",
      "3135/3135 [==============================] - 7s 2ms/step - loss: 0.1336 - accuracy: 0.9415\n",
      "Epoch 27/100\n",
      "3135/3135 [==============================] - 7s 2ms/step - loss: 0.1335 - accuracy: 0.9418\n",
      "Epoch 28/100\n",
      "3135/3135 [==============================] - 8s 3ms/step - loss: 0.1335 - accuracy: 0.9419\n",
      "Epoch 29/100\n",
      "3135/3135 [==============================] - 8s 2ms/step - loss: 0.1338 - accuracy: 0.9419\n",
      "Epoch 30/100\n",
      "3135/3135 [==============================] - 7s 2ms/step - loss: 0.1335 - accuracy: 0.9417\n",
      "Epoch 31/100\n",
      "3135/3135 [==============================] - 7s 2ms/step - loss: 0.1334 - accuracy: 0.9419\n",
      "Epoch 32/100\n",
      "3135/3135 [==============================] - 7s 2ms/step - loss: 0.1337 - accuracy: 0.9411\n",
      "Epoch 33/100\n",
      "3135/3135 [==============================] - 7s 2ms/step - loss: 0.1338 - accuracy: 0.9416\n",
      "Epoch 34/100\n",
      "3135/3135 [==============================] - 7s 2ms/step - loss: 0.1334 - accuracy: 0.9417\n",
      "Epoch 35/100\n",
      "3135/3135 [==============================] - 7s 2ms/step - loss: 0.1332 - accuracy: 0.9415\n",
      "Epoch 36/100\n",
      "3135/3135 [==============================] - 9s 3ms/step - loss: 0.1334 - accuracy: 0.9417\n",
      "Epoch 37/100\n",
      "3135/3135 [==============================] - 8s 3ms/step - loss: 0.1331 - accuracy: 0.9417\n",
      "Epoch 38/100\n",
      "3135/3135 [==============================] - 7s 2ms/step - loss: 0.1333 - accuracy: 0.9419\n",
      "Epoch 39/100\n",
      "3135/3135 [==============================] - 8s 3ms/step - loss: 0.1331 - accuracy: 0.9417\n",
      "Epoch 40/100\n",
      "3135/3135 [==============================] - 9s 3ms/step - loss: 0.1333 - accuracy: 0.9411\n",
      "Epoch 41/100\n",
      "3135/3135 [==============================] - 8s 3ms/step - loss: 0.1333 - accuracy: 0.9417\n",
      "Epoch 42/100\n",
      "3135/3135 [==============================] - 8s 2ms/step - loss: 0.1330 - accuracy: 0.9418\n",
      "Epoch 43/100\n",
      "3135/3135 [==============================] - 8s 3ms/step - loss: 0.1337 - accuracy: 0.9416\n",
      "Epoch 44/100\n",
      "3135/3135 [==============================] - 9s 3ms/step - loss: 0.1330 - accuracy: 0.9417\n",
      "Epoch 45/100\n",
      "3135/3135 [==============================] - 9s 3ms/step - loss: 0.1327 - accuracy: 0.9421\n",
      "Epoch 46/100\n",
      "3135/3135 [==============================] - 7s 2ms/step - loss: 0.1331 - accuracy: 0.9421\n",
      "Epoch 47/100\n",
      "3135/3135 [==============================] - 7s 2ms/step - loss: 0.1328 - accuracy: 0.9417\n",
      "Epoch 48/100\n",
      "3135/3135 [==============================] - 8s 3ms/step - loss: 0.1329 - accuracy: 0.9416\n",
      "Epoch 49/100\n",
      "3135/3135 [==============================] - 8s 2ms/step - loss: 0.1330 - accuracy: 0.9419\n",
      "Epoch 50/100\n",
      "3135/3135 [==============================] - 8s 2ms/step - loss: 0.1328 - accuracy: 0.9418\n",
      "Epoch 51/100\n",
      "3135/3135 [==============================] - 9s 3ms/step - loss: 0.1328 - accuracy: 0.9419\n",
      "Epoch 52/100\n",
      "3135/3135 [==============================] - 8s 3ms/step - loss: 0.1326 - accuracy: 0.9418\n",
      "Epoch 53/100\n",
      "3135/3135 [==============================] - 9s 3ms/step - loss: 0.1327 - accuracy: 0.9418\n",
      "Epoch 54/100\n",
      "3135/3135 [==============================] - 9s 3ms/step - loss: 0.1329 - accuracy: 0.9419\n",
      "Epoch 55/100\n",
      "3135/3135 [==============================] - 9s 3ms/step - loss: 0.1330 - accuracy: 0.9416\n",
      "Epoch 56/100\n",
      "3135/3135 [==============================] - 8s 3ms/step - loss: 0.1331 - accuracy: 0.9417\n",
      "Epoch 57/100\n",
      "3135/3135 [==============================] - 8s 3ms/step - loss: 0.1326 - accuracy: 0.9419\n",
      "Epoch 58/100\n",
      "3135/3135 [==============================] - 8s 2ms/step - loss: 0.1326 - accuracy: 0.9423\n",
      "Epoch 59/100\n",
      "3135/3135 [==============================] - 8s 3ms/step - loss: 0.1324 - accuracy: 0.9414\n",
      "Epoch 60/100\n",
      "3135/3135 [==============================] - 8s 3ms/step - loss: 0.1323 - accuracy: 0.9422\n",
      "Epoch 61/100\n",
      "3135/3135 [==============================] - 9s 3ms/step - loss: 0.1323 - accuracy: 0.9421\n",
      "Epoch 62/100\n",
      "3135/3135 [==============================] - 8s 3ms/step - loss: 0.1323 - accuracy: 0.9418\n",
      "Epoch 63/100\n",
      "3135/3135 [==============================] - 7s 2ms/step - loss: 0.1322 - accuracy: 0.9419\n",
      "Epoch 64/100\n",
      "3135/3135 [==============================] - 7s 2ms/step - loss: 0.1323 - accuracy: 0.9425\n",
      "Epoch 65/100\n",
      "3135/3135 [==============================] - 7s 2ms/step - loss: 0.1323 - accuracy: 0.9418\n",
      "Epoch 66/100\n",
      "3135/3135 [==============================] - 7s 2ms/step - loss: 0.1322 - accuracy: 0.9421\n",
      "Epoch 67/100\n",
      "3135/3135 [==============================] - 8s 2ms/step - loss: 0.1321 - accuracy: 0.9417\n",
      "Epoch 68/100\n",
      "3135/3135 [==============================] - 6s 2ms/step - loss: 0.1319 - accuracy: 0.9420\n",
      "Epoch 69/100\n",
      "3135/3135 [==============================] - 6s 2ms/step - loss: 0.1322 - accuracy: 0.9417\n",
      "Epoch 70/100\n",
      "3135/3135 [==============================] - 6s 2ms/step - loss: 0.1323 - accuracy: 0.9417\n",
      "Epoch 71/100\n",
      "3135/3135 [==============================] - 6s 2ms/step - loss: 0.1336 - accuracy: 0.9415\n",
      "Epoch 72/100\n",
      "3135/3135 [==============================] - 6s 2ms/step - loss: 0.1320 - accuracy: 0.9419\n",
      "Epoch 73/100\n",
      "3135/3135 [==============================] - 6s 2ms/step - loss: 0.1320 - accuracy: 0.9421\n",
      "Epoch 74/100\n",
      "3135/3135 [==============================] - 6s 2ms/step - loss: 0.1321 - accuracy: 0.9415\n",
      "Epoch 75/100\n",
      "3135/3135 [==============================] - 7s 2ms/step - loss: 0.1318 - accuracy: 0.9421\n",
      "Epoch 76/100\n",
      "3135/3135 [==============================] - 6s 2ms/step - loss: 0.1319 - accuracy: 0.9421\n",
      "Epoch 77/100\n",
      "3135/3135 [==============================] - 6s 2ms/step - loss: 0.1320 - accuracy: 0.9421\n",
      "Epoch 78/100\n",
      "3135/3135 [==============================] - 6s 2ms/step - loss: 0.1325 - accuracy: 0.9423\n",
      "Epoch 79/100\n",
      "3135/3135 [==============================] - 6s 2ms/step - loss: 0.1318 - accuracy: 0.9421\n",
      "Epoch 80/100\n",
      "3135/3135 [==============================] - 6s 2ms/step - loss: 0.1318 - accuracy: 0.9425\n",
      "Epoch 81/100\n",
      "3135/3135 [==============================] - 6s 2ms/step - loss: 0.1318 - accuracy: 0.9421\n",
      "Epoch 82/100\n",
      "3135/3135 [==============================] - 7s 2ms/step - loss: 0.1319 - accuracy: 0.9419\n",
      "Epoch 83/100\n",
      "3135/3135 [==============================] - 6s 2ms/step - loss: 0.1316 - accuracy: 0.9419\n",
      "Epoch 84/100\n",
      "3135/3135 [==============================] - 6s 2ms/step - loss: 0.1318 - accuracy: 0.9418\n",
      "Epoch 85/100\n",
      "3135/3135 [==============================] - 7s 2ms/step - loss: 0.1315 - accuracy: 0.9415\n",
      "Epoch 86/100\n",
      "3135/3135 [==============================] - 6s 2ms/step - loss: 0.1316 - accuracy: 0.9419\n",
      "Epoch 87/100\n",
      "3135/3135 [==============================] - 6s 2ms/step - loss: 0.1316 - accuracy: 0.9423\n",
      "Epoch 88/100\n",
      "3135/3135 [==============================] - 6s 2ms/step - loss: 0.1313 - accuracy: 0.9423\n",
      "Epoch 89/100\n",
      "3135/3135 [==============================] - 6s 2ms/step - loss: 0.1319 - accuracy: 0.9418\n",
      "Epoch 90/100\n",
      "3135/3135 [==============================] - 6s 2ms/step - loss: 0.1317 - accuracy: 0.9420\n",
      "Epoch 91/100\n",
      "3135/3135 [==============================] - 6s 2ms/step - loss: 0.1313 - accuracy: 0.9423\n",
      "Epoch 92/100\n",
      "3135/3135 [==============================] - 6s 2ms/step - loss: 0.1313 - accuracy: 0.9421\n",
      "Epoch 93/100\n",
      "3135/3135 [==============================] - 6s 2ms/step - loss: 0.1318 - accuracy: 0.9419\n",
      "Epoch 94/100\n",
      "3135/3135 [==============================] - 6s 2ms/step - loss: 0.1312 - accuracy: 0.9424\n",
      "Epoch 95/100\n",
      "3135/3135 [==============================] - 6s 2ms/step - loss: 0.1315 - accuracy: 0.9417\n",
      "Epoch 96/100\n",
      "3135/3135 [==============================] - 6s 2ms/step - loss: 0.1316 - accuracy: 0.9421\n",
      "Epoch 97/100\n",
      "3135/3135 [==============================] - 6s 2ms/step - loss: 0.1311 - accuracy: 0.9423\n",
      "Epoch 98/100\n",
      "3135/3135 [==============================] - 6s 2ms/step - loss: 0.1313 - accuracy: 0.9420\n",
      "Epoch 99/100\n",
      "3135/3135 [==============================] - 6s 2ms/step - loss: 0.1322 - accuracy: 0.9422\n",
      "Epoch 100/100\n",
      "3135/3135 [==============================] - 6s 2ms/step - loss: 0.1312 - accuracy: 0.9421\n"
     ]
    },
    {
     "data": {
      "text/plain": [
       "<keras.callbacks.History at 0x1f86178d5b0>"
      ]
     },
     "execution_count": 113,
     "metadata": {},
     "output_type": "execute_result"
    }
   ],
   "source": [
    "\n",
    "# Training the model with best hyperparamters\n",
    "bb=classifier.fit(x_train,y_train, batch_size=25 , epochs=150, verbose=1)\n",
    "bb"
   ]
  },
  {
   "cell_type": "code",
   "execution_count": 111,
   "metadata": {},
   "outputs": [],
   "source": [
    "import matplotlib.pyplot as plt"
   ]
  },
  {
   "cell_type": "code",
   "execution_count": 119,
   "metadata": {},
   "outputs": [
    {
     "name": "stdout",
     "output_type": "stream",
     "text": [
      "Test loss for Keras Leaky ReLU CNN: 0.1476626992225647 / Test accuracy: 0.9349948167800903\n"
     ]
    },
    {
     "data": {
      "image/png": "[encoded data removed]",
      "text/plain": [
       "<Figure size 640x480 with 1 Axes>"
      ]
     },
     "metadata": {},
     "output_type": "display_data"
    }
   ],
   "source": [
    "score = classifier.evaluate(x_test, y_test, verbose=0)\n",
    "print(f'Test loss for Keras Leaky ReLU CNN: {score[0]} / Test accuracy: {score[1]}')\n",
    "\n",
    "plt.plot(bb.history['accuracy'], label='Training accuracy')\n",
    "plt.title('Leaky ReLU training / validation accuracies')\n",
    "plt.ylabel('Accuracy')\n",
    "plt.xlabel('Epoch')\n",
    "plt.legend(loc=\"upper left\")\n",
    "plt.show()"
   ]
  },
  {
   "cell_type": "code",
   "execution_count": 120,
   "metadata": {},
   "outputs": [],
   "source": [
    "# equivalent to: model.save(\"model.h5\")\n",
    "save_model(classifier, \"modelv4.h5\")"
   ]
  },
  {
   "cell_type": "code",
   "execution_count": 74,
   "metadata": {},
   "outputs": [
    {
     "name": "stdout",
     "output_type": "stream",
     "text": [
      "Model: \"sequential_59\"\n",
      "_________________________________________________________________\n",
      " Layer (type)                Output Shape              Param #   \n",
      "=================================================================\n",
      " dense_295 (Dense)           (None, 19)                342       \n",
      "                                                                 \n",
      " dense_296 (Dense)           (None, 14)                280       \n",
      "                                                                 \n",
      " dense_297 (Dense)           (None, 13)                195       \n",
      "                                                                 \n",
      " dense_298 (Dense)           (None, 12)                168       \n",
      "                                                                 \n",
      " dense_299 (Dense)           (None, 6)                 78        \n",
      "                                                                 \n",
      " dense_300 (Dense)           (None, 1)                 7         \n",
      "                                                                 \n",
      "=================================================================\n",
      "Total params: 1,070\n",
      "Trainable params: 1,070\n",
      "Non-trainable params: 0\n",
      "_________________________________________________________________\n"
     ]
    }
   ],
   "source": [
    "# load model\n",
    "model = load_model('modelv3.h5')\n",
    "# summarize model.\n",
    "model.summary()"
   ]
  },
  {
   "cell_type": "code",
   "execution_count": 75,
   "metadata": {},
   "outputs": [
    {
     "name": "stdout",
     "output_type": "stream",
     "text": [
      "accuracy: 93.56%\n"
     ]
    }
   ],
   "source": [
    "scores = model.evaluate(x_test, y_test, verbose=0)\n",
    "print(\"%s: %.2f%%\" % (model.metrics_names[1], scores[1]*100))"
   ]
  },
  {
   "cell_type": "code",
   "execution_count": 76,
   "metadata": {},
   "outputs": [
    {
     "name": "stdout",
     "output_type": "stream",
     "text": [
      "817/817 [==============================] - 1s 646us/step\n"
     ]
    }
   ],
   "source": [
    "\n",
    "# Predictions on testing data\n",
    "Predictions=model.predict(x_test)\n",
    " \n",
    " \n"
   ]
  },
  {
   "attachments": {},
   "cell_type": "markdown",
   "metadata": {},
   "source": [
    "# Generating a data frame for analyzing the test data\n",
    "TestingData=pd.DataFrame(data=Test_Data, columns=Predictors)\n",
    "TestingData['Survival']=y_test\n",
    "TestingData['PredictedSurvivalProb']=Predictions\n",
    " \n",
    "# Defining the probability threshold\n",
    "def probThreshold(inpProb):\n",
    "    if inpProb  >  0.5:\n",
    "        return(1)\n",
    "    else:\n",
    "        return(0)\n",
    " \n",
    "# Generating predictions on the testing data by applying probability threshold\n",
    "TestingData['PredictedSurvival']=TestingData['PredictedSurvivalProb'].apply(probThreshold)\n",
    "print(TestingData.head())\n",
    "\n",
    "from sklearn import metrics\n",
    "print('\\n######### Testing Accuracy Results #########')\n",
    "print(metrics.classification_report(TestingData['Survival'], TestingData['PredictedSurvival']))\n",
    "print(metrics.confusion_matrix(TestingData['Survival'], TestingData['PredictedSurvival']))"
   ]
  },
  {
   "attachments": {},
   "cell_type": "markdown",
   "metadata": {},
   "source": []
  }
 ],
 "metadata": {
  "kernelspec": {
   "display_name": "base",
   "language": "python",
   "name": "python3"
  },
  "language_info": {
   "codemirror_mode": {
    "name": "ipython",
    "version": 3
   },
   "file_extension": ".py",
   "mimetype": "text/x-python",
   "name": "python",
   "nbconvert_exporter": "python",
   "pygments_lexer": "ipython3",
   "version": "3.9.15"
  },
  "orig_nbformat": 4
 },
 "nbformat": 4,
 "nbformat_minor": 2
}
