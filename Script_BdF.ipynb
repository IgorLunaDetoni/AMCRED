{
 "cells": [
  {
   "cell_type": "code",
   "execution_count": 39,
   "metadata": {},
   "outputs": [],
   "source": [
    "import pandas as pd\n",
    "import xgboost as xgb\n",
    "import numpy as np\n",
    "from sklearn.model_selection import train_test_split\n",
    "from sklearn.model_selection import KFold\n",
    "from sklearn.model_selection import GridSearchCV\n",
    "from sklearn.metrics import make_scorer, cohen_kappa_score, accuracy_score, roc_auc_score\n",
    "from xgboost import XGBRegressor\n",
    "from sklearn.metrics import confusion_matrix,classification_report,accuracy_score\n",
    "import seaborn as sns\n",
    "import numpy as np\n",
    "import xgboost as xgb\n",
    "\n",
    "\n",
    "\n",
    "%matplotlib inline"
   ]
  },
  {
   "cell_type": "code",
   "execution_count": 21,
   "metadata": {},
   "outputs": [],
   "source": [
    "df = pd.read_feather(r'AMCRED\\BLUSOL\\BLUSOL\\big_frame_4.feather')"
   ]
  },
  {
   "cell_type": "code",
   "execution_count": 22,
   "metadata": {},
   "outputs": [],
   "source": [
    "x_train,x_test,y_train,y_test = train_test_split(df.drop('DEFAULT',axis = 1).values,df['DEFAULT'].values,test_size = 0.25)"
   ]
  },
  {
   "cell_type": "code",
   "execution_count": 6,
   "metadata": {},
   "outputs": [],
   "source": [
    "\n",
    "# Define the XGBoost classifier and the parameter grid for GridSearchCV\n",
    "classifier = xgb.XGBClassifier()\n",
    "parameters = {\n",
    "    'learning_rate': [0.01,0.03],\n",
    "    'max_depth': [5, 6],\n",
    "    'min_child_weight': [4],\n",
    "    'n_estimators': [1000,1100, 1200],\n",
    "    'scale_pos_weight':list(range(20,60,10)),\n",
    "    \"colsample_bytree\":[0.75,0.5,1],\n",
    "    \"gamma\":[0.001,0.01,0.2]}\n",
    "\n",
    "# Create an instance of GridSearchCV with the classifier and parameter grid\n",
    "gridsearch = GridSearchCV(estimator=classifier, param_grid=parameters, scoring='roc_auc', cv=5)\n",
    "\n",
    "# Fit the GridSearchCV instance to the training data\n",
    "grid=gridsearch.fit(x_train, y_train)"
   ]
  },
  {
   "cell_type": "code",
   "execution_count": 7,
   "metadata": {},
   "outputs": [
    {
     "name": "stdout",
     "output_type": "stream",
     "text": [
      "0.9396702048369964\n",
      "{'colsample_bytree': 0.5, 'gamma': 0.01, 'learning_rate': 0.01, 'max_depth': 5, 'min_child_weight': 4, 'n_estimators': 1100, 'scale_pos_weight': 20}\n"
     ]
    }
   ],
   "source": [
    "# Find the best parameters and the best score\n",
    "best_params = grid.best_params_\n",
    "best_score = grid.best_score_\n",
    "print(best_score)\n",
    "print(best_params)"
   ]
  },
  {
   "cell_type": "code",
   "execution_count": 9,
   "metadata": {},
   "outputs": [],
   "source": [
    "final=classifier.fit(x_train, y_train)\n",
    "y_pred = final.predict(x_test)"
   ]
  },
  {
   "cell_type": "code",
   "execution_count": 10,
   "metadata": {},
   "outputs": [
    {
     "data": {
      "text/plain": [
       "<AxesSubplot: >"
      ]
     },
     "execution_count": 10,
     "metadata": {},
     "output_type": "execute_result"
    },
    {
     "data": {
      "image/png": "[encoded data removed]",
      "text/plain": [
       "<Figure size 640x480 with 2 Axes>"
      ]
     },
     "metadata": {},
     "output_type": "display_data"
    }
   ],
   "source": [
    "cm = confusion_matrix(y_test,y_pred)\n",
    "sns.heatmap(cm,annot=True,cmap='viridis')"
   ]
  },
  {
   "cell_type": "code",
   "execution_count": 11,
   "metadata": {},
   "outputs": [
    {
     "name": "stdout",
     "output_type": "stream",
     "text": [
      "              precision    recall  f1-score   support\n",
      "\n",
      "       False       0.95      0.98      0.97     24340\n",
      "        True       0.57      0.34      0.42      1781\n",
      "\n",
      "    accuracy                           0.94     26121\n",
      "   macro avg       0.76      0.66      0.69     26121\n",
      "weighted avg       0.93      0.94      0.93     26121\n",
      "\n"
     ]
    }
   ],
   "source": [
    "print(classification_report(y_test,y_pred))"
   ]
  },
  {
   "cell_type": "code",
   "execution_count": 12,
   "metadata": {},
   "outputs": [
    {
     "name": "stdout",
     "output_type": "stream",
     "text": [
      "Best Parameters:  {'colsample_bytree': 0.5, 'gamma': 0.01, 'learning_rate': 0.01, 'max_depth': 5, 'min_child_weight': 4, 'n_estimators': 1100, 'scale_pos_weight': 20}\n",
      "Best Score:  0.9396702048369964\n",
      "ROC AUC:  0.6587966562044256\n",
      "Cohen's Kappa:  0.39156086625655073\n"
     ]
    }
   ],
   "source": [
    "\n",
    "\n",
    "roc_auc = roc_auc_score(y_test, y_pred)\n",
    "cohen_kappa = cohen_kappa_score(y_test, y_pred)\n",
    "\n",
    "print(\"Best Parameters: \", best_params)\n",
    "print(\"Best Score: \", best_score)\n",
    "print(\"ROC AUC: \", roc_auc)\n",
    "print(\"Cohen's Kappa: \", cohen_kappa)\n"
   ]
  },
  {
   "attachments": {},
   "cell_type": "markdown",
   "metadata": {},
   "source": [
    "x,y = df.drop('DEFAULT',axis = 1).values,df['DEFAULT'].values\n",
    "cv = KFold(n_splits = 5)\n",
    "params = {'max_depth': [5,6,7,10],\n",
    "           'learning_rate': [0.01, 0.05, 0.1],\n",
    "           'n_estimators': [100, 500, 1000],\n",
    "           'colsample_bytree': [0.3, 0.7],\n",
    "         'scale_pos_weight':list(range(30,60,10))}\n",
    "\n",
    "#Scores Kapp e AUC\n",
    "kappa_scorer = make_scorer(cohen_kappa_score)\n",
    "auc_scorer = make_scorer(roc_auc_score, needs_proba=True)\n",
    "\n",
    "scoring_metrics = {'kappa': kappa_scorer, 'auc': auc_scorer}\n",
    "                           \n",
    "model = xgb.XGBClassifier()\n",
    "grid = GridSearchCV(estimator = model, param_grid = params, cv = cv, scoring=scoring_metrics,verbose = 1, refit=\"auc\")\n",
    "grid_result = grid.fit(x,y)"
   ]
  },
  {
   "attachments": {},
   "cell_type": "markdown",
   "metadata": {},
   "source": [
    "def metric(real,pred):\n",
    "    return np.where(pred[real == 1] < 1,np.power(pred[real == 1],2),1).sum() * 100 + np.where(pred[real == 0] > 0,np.power(1 - pred[real == 0],2),1).sum()\n",
    "\n",
    "scorer = make_scorer(metric)\n",
    "\n",
    "clf = RandomizedSearchCV(estimator=xgbr,\n",
    "                         param_distributions=params,\n",
    "                         scoring='neg_mean_squared_error',\n",
    "                         n_iter=25,\n",
    "                         verbose=3,cv = cv)"
   ]
  },
  {
   "cell_type": "code",
   "execution_count": 42,
   "metadata": {},
   "outputs": [],
   "source": [
    "final.save_model(\"modelo_xgb_V1.txt\")"
   ]
  },
  {
   "cell_type": "code",
   "execution_count": 14,
   "metadata": {},
   "outputs": [],
   "source": [
    "# Define the XGBoost classifier and the parameter grid for GridSearchCV\n",
    "classifier = xgb.XGBClassifier()\n",
    "parameters = {\n",
    "    'learning_rate': [0.01, 0.1, 0.3],\n",
    "    'max_depth': [4, 5, 6, 7],\n",
    "    'n_estimators': [100, 500, 1000],\n",
    "    'min_child_weight': [3, 4, 5],\n",
    "    'scale_pos_weight':list(range(20,60,10))}\n",
    "\n",
    "# Create an instance of GridSearchCV with the classifier and parameter grid\n",
    "kappa_scorer = make_scorer(cohen_kappa_score)\n",
    "gridsearch = GridSearchCV(estimator=classifier, param_grid=parameters, scoring=kappa_scorer, cv=5)\n",
    "\n",
    "# Fit the GridSearchCV instance to the training data\n",
    "grid=gridsearch.fit(x_train, y_train)"
   ]
  },
  {
   "cell_type": "code",
   "execution_count": 15,
   "metadata": {},
   "outputs": [
    {
     "name": "stdout",
     "output_type": "stream",
     "text": [
      "0.45220489305927386\n",
      "{'learning_rate': 0.1, 'max_depth': 7, 'min_child_weight': 4, 'n_estimators': 1000, 'scale_pos_weight': 30}\n"
     ]
    }
   ],
   "source": [
    "# Find the best parameters and the best score\n",
    "best_params = grid.best_params_\n",
    "best_score = grid.best_score_\n",
    "print(best_score)\n",
    "print(best_params)"
   ]
  },
  {
   "cell_type": "code",
   "execution_count": 16,
   "metadata": {},
   "outputs": [],
   "source": [
    "final1=classifier.fit(x_train, y_train)\n",
    "y_pred = final.predict(x_test)"
   ]
  },
  {
   "cell_type": "code",
   "execution_count": 17,
   "metadata": {},
   "outputs": [
    {
     "data": {
      "text/plain": [
       "<AxesSubplot: >"
      ]
     },
     "execution_count": 17,
     "metadata": {},
     "output_type": "execute_result"
    },
    {
     "data": {
      "image/png": "[encoded data removed]",
      "text/plain": [
       "<Figure size 640x480 with 2 Axes>"
      ]
     },
     "metadata": {},
     "output_type": "display_data"
    }
   ],
   "source": [
    "cm = confusion_matrix(y_test,y_pred)\n",
    "sns.heatmap(cm,annot=True,cmap='viridis')"
   ]
  },
  {
   "cell_type": "code",
   "execution_count": 18,
   "metadata": {},
   "outputs": [
    {
     "name": "stdout",
     "output_type": "stream",
     "text": [
      "              precision    recall  f1-score   support\n",
      "\n",
      "       False       0.95      0.98      0.97     24365\n",
      "        True       0.56      0.33      0.42      1756\n",
      "\n",
      "    accuracy                           0.94     26121\n",
      "   macro avg       0.76      0.66      0.69     26121\n",
      "weighted avg       0.93      0.94      0.93     26121\n",
      "\n"
     ]
    }
   ],
   "source": [
    "print(classification_report(y_test,y_pred))"
   ]
  },
  {
   "cell_type": "code",
   "execution_count": 19,
   "metadata": {},
   "outputs": [
    {
     "name": "stdout",
     "output_type": "stream",
     "text": [
      "Best Parameters:  {'learning_rate': 0.1, 'max_depth': 7, 'min_child_weight': 4, 'n_estimators': 1000, 'scale_pos_weight': 30}\n",
      "Best Score:  0.45220489305927386\n",
      "ROC AUC:  0.6570524581780411\n",
      "Cohen's Kappa:  0.38815020877252115\n"
     ]
    }
   ],
   "source": [
    "roc_auc = roc_auc_score(y_test, y_pred)\n",
    "cohen_kappa = cohen_kappa_score(y_test, y_pred)\n",
    "\n",
    "print(\"Best Parameters: \", best_params)\n",
    "print(\"Best Score: \", best_score)\n",
    "print(\"ROC AUC: \", roc_auc)\n",
    "print(\"Cohen's Kappa: \", cohen_kappa)\n"
   ]
  },
  {
   "attachments": {},
   "cell_type": "markdown",
   "metadata": {},
   "source": [
    "### Rede Neural Classifier"
   ]
  },
  {
   "cell_type": "code",
   "execution_count": 23,
   "metadata": {},
   "outputs": [
    {
     "data": {
      "text/html": [
       "<div>\n",
       "<style scoped>\n",
       "    .dataframe tbody tr th:only-of-type {\n",
       "        vertical-align: middle;\n",
       "    }\n",
       "\n",
       "    .dataframe tbody tr th {\n",
       "        vertical-align: top;\n",
       "    }\n",
       "\n",
       "    .dataframe thead th {\n",
       "        text-align: right;\n",
       "    }\n",
       "</style>\n",
       "<table border=\"1\" class=\"dataframe\">\n",
       "  <thead>\n",
       "    <tr style=\"text-align: right;\">\n",
       "      <th></th>\n",
       "      <th>situacaodoimovelderesidencia</th>\n",
       "      <th>nropessoasnacasa</th>\n",
       "      <th>situacaoimoveldeatividade</th>\n",
       "      <th>tipodeponto</th>\n",
       "      <th>formacaoescolar</th>\n",
       "      <th>constituicao</th>\n",
       "      <th>pessoafisicajuridica</th>\n",
       "      <th>nrodefuncionarios</th>\n",
       "      <th>rendafamiliarmensal</th>\n",
       "      <th>totaldasreceitas</th>\n",
       "      <th>finalidadeemprestimo</th>\n",
       "      <th>taxaaomes</th>\n",
       "      <th>valoremprestado</th>\n",
       "      <th>quantidadeparcelas</th>\n",
       "      <th>conceitospc</th>\n",
       "      <th>valorparcela</th>\n",
       "      <th>pesoparcela</th>\n",
       "      <th>DEFAULT</th>\n",
       "    </tr>\n",
       "  </thead>\n",
       "  <tbody>\n",
       "    <tr>\n",
       "      <th>0</th>\n",
       "      <td>-0.642253</td>\n",
       "      <td>0.313479</td>\n",
       "      <td>0.030079</td>\n",
       "      <td>-0.629161</td>\n",
       "      <td>-0.031697</td>\n",
       "      <td>0.360688</td>\n",
       "      <td>1.890953</td>\n",
       "      <td>-0.058765</td>\n",
       "      <td>-0.004641</td>\n",
       "      <td>-0.013619</td>\n",
       "      <td>-0.775184</td>\n",
       "      <td>0.425537</td>\n",
       "      <td>-0.736380</td>\n",
       "      <td>-0.578737</td>\n",
       "      <td>3.065097</td>\n",
       "      <td>-0.353105</td>\n",
       "      <td>-0.454706</td>\n",
       "      <td>False</td>\n",
       "    </tr>\n",
       "    <tr>\n",
       "      <th>1</th>\n",
       "      <td>-0.642253</td>\n",
       "      <td>-0.078087</td>\n",
       "      <td>0.030079</td>\n",
       "      <td>1.589402</td>\n",
       "      <td>0.057219</td>\n",
       "      <td>0.360688</td>\n",
       "      <td>1.890953</td>\n",
       "      <td>-0.058765</td>\n",
       "      <td>-0.001092</td>\n",
       "      <td>-0.011746</td>\n",
       "      <td>-0.775184</td>\n",
       "      <td>0.425537</td>\n",
       "      <td>-0.063955</td>\n",
       "      <td>1.164573</td>\n",
       "      <td>-0.478508</td>\n",
       "      <td>-0.224240</td>\n",
       "      <td>-0.349945</td>\n",
       "      <td>False</td>\n",
       "    </tr>\n",
       "    <tr>\n",
       "      <th>2</th>\n",
       "      <td>2.087291</td>\n",
       "      <td>-0.078087</td>\n",
       "      <td>2.838781</td>\n",
       "      <td>1.589402</td>\n",
       "      <td>-0.031697</td>\n",
       "      <td>0.360688</td>\n",
       "      <td>1.890953</td>\n",
       "      <td>0.482467</td>\n",
       "      <td>-0.012919</td>\n",
       "      <td>0.033630</td>\n",
       "      <td>-0.775184</td>\n",
       "      <td>-0.360870</td>\n",
       "      <td>0.968164</td>\n",
       "      <td>1.164573</td>\n",
       "      <td>-0.478508</td>\n",
       "      <td>0.098897</td>\n",
       "      <td>-0.549765</td>\n",
       "      <td>False</td>\n",
       "    </tr>\n",
       "    <tr>\n",
       "      <th>3</th>\n",
       "      <td>-0.642253</td>\n",
       "      <td>0.705045</td>\n",
       "      <td>0.030079</td>\n",
       "      <td>1.589402</td>\n",
       "      <td>0.057219</td>\n",
       "      <td>-0.560714</td>\n",
       "      <td>0.098972</td>\n",
       "      <td>-0.058765</td>\n",
       "      <td>-0.001092</td>\n",
       "      <td>-0.001411</td>\n",
       "      <td>1.417033</td>\n",
       "      <td>-0.630729</td>\n",
       "      <td>-0.491908</td>\n",
       "      <td>-0.827781</td>\n",
       "      <td>-0.478508</td>\n",
       "      <td>-0.120299</td>\n",
       "      <td>-0.398116</td>\n",
       "      <td>False</td>\n",
       "    </tr>\n",
       "    <tr>\n",
       "      <th>4</th>\n",
       "      <td>-0.642253</td>\n",
       "      <td>-0.078087</td>\n",
       "      <td>-0.540502</td>\n",
       "      <td>-0.629161</td>\n",
       "      <td>-0.031697</td>\n",
       "      <td>-1.488522</td>\n",
       "      <td>-0.597817</td>\n",
       "      <td>0.121645</td>\n",
       "      <td>-0.001092</td>\n",
       "      <td>-0.004318</td>\n",
       "      <td>-0.775184</td>\n",
       "      <td>-0.630729</td>\n",
       "      <td>-0.572463</td>\n",
       "      <td>-0.827781</td>\n",
       "      <td>-0.478508</td>\n",
       "      <td>-0.184078</td>\n",
       "      <td>-0.391048</td>\n",
       "      <td>False</td>\n",
       "    </tr>\n",
       "  </tbody>\n",
       "</table>\n",
       "</div>"
      ],
      "text/plain": [
       "   situacaodoimovelderesidencia  nropessoasnacasa  situacaoimoveldeatividade  \\\n",
       "0                     -0.642253          0.313479                   0.030079   \n",
       "1                     -0.642253         -0.078087                   0.030079   \n",
       "2                      2.087291         -0.078087                   2.838781   \n",
       "3                     -0.642253          0.705045                   0.030079   \n",
       "4                     -0.642253         -0.078087                  -0.540502   \n",
       "\n",
       "   tipodeponto  formacaoescolar  constituicao  pessoafisicajuridica  \\\n",
       "0    -0.629161        -0.031697      0.360688              1.890953   \n",
       "1     1.589402         0.057219      0.360688              1.890953   \n",
       "2     1.589402        -0.031697      0.360688              1.890953   \n",
       "3     1.589402         0.057219     -0.560714              0.098972   \n",
       "4    -0.629161        -0.031697     -1.488522             -0.597817   \n",
       "\n",
       "   nrodefuncionarios  rendafamiliarmensal  totaldasreceitas  \\\n",
       "0          -0.058765            -0.004641         -0.013619   \n",
       "1          -0.058765            -0.001092         -0.011746   \n",
       "2           0.482467            -0.012919          0.033630   \n",
       "3          -0.058765            -0.001092         -0.001411   \n",
       "4           0.121645            -0.001092         -0.004318   \n",
       "\n",
       "   finalidadeemprestimo  taxaaomes  valoremprestado  quantidadeparcelas  \\\n",
       "0             -0.775184   0.425537        -0.736380           -0.578737   \n",
       "1             -0.775184   0.425537        -0.063955            1.164573   \n",
       "2             -0.775184  -0.360870         0.968164            1.164573   \n",
       "3              1.417033  -0.630729        -0.491908           -0.827781   \n",
       "4             -0.775184  -0.630729        -0.572463           -0.827781   \n",
       "\n",
       "   conceitospc  valorparcela  pesoparcela  DEFAULT  \n",
       "0     3.065097     -0.353105    -0.454706    False  \n",
       "1    -0.478508     -0.224240    -0.349945    False  \n",
       "2    -0.478508      0.098897    -0.549765    False  \n",
       "3    -0.478508     -0.120299    -0.398116    False  \n",
       "4    -0.478508     -0.184078    -0.391048    False  "
      ]
     },
     "execution_count": 23,
     "metadata": {},
     "output_type": "execute_result"
    }
   ],
   "source": [
    "\n",
    "df.head()"
   ]
  },
  {
   "cell_type": "code",
   "execution_count": 40,
   "metadata": {},
   "outputs": [],
   "source": [
    "import tensorflow as tf\n",
    "from tensorflow import keras\n",
    "from tensorflow.keras import layers\n",
    "# Function to generate Deep ANN model \n",
    "from keras.models import Sequential\n",
    "from keras.layers import Dense\n",
    "from keras.models import load_model\n",
    " "
   ]
  },
  {
   "cell_type": "code",
   "execution_count": 25,
   "metadata": {},
   "outputs": [
    {
     "name": "stdout",
     "output_type": "stream",
     "text": [
      "(78361, 17)\n"
     ]
    }
   ],
   "source": [
    "print(x_train.shape)"
   ]
  },
  {
   "cell_type": "code",
   "execution_count": 26,
   "metadata": {},
   "outputs": [
    {
     "data": {
      "text/plain": [
       "array([0, 0, 0, ..., 0, 0, 0])"
      ]
     },
     "execution_count": 26,
     "metadata": {},
     "output_type": "execute_result"
    }
   ],
   "source": [
    "y_train.astype(int)"
   ]
  },
  {
   "cell_type": "code",
   "execution_count": 49,
   "metadata": {},
   "outputs": [
    {
     "name": "stdout",
     "output_type": "stream",
     "text": [
      "Epoch 1/20\n",
      "784/784 [==============================] - 2s 2ms/step - loss: 0.2141 - accuracy: 0.9333\n",
      "Epoch 2/20\n",
      "784/784 [==============================] - 1s 1ms/step - loss: 0.1424 - accuracy: 0.9333\n",
      "Epoch 3/20\n",
      "784/784 [==============================] - 1s 1ms/step - loss: 0.1415 - accuracy: 0.9333\n",
      "Epoch 4/20\n",
      "784/784 [==============================] - 1s 1ms/step - loss: 0.1409 - accuracy: 0.9333\n",
      "Epoch 5/20\n",
      "784/784 [==============================] - 1s 1ms/step - loss: 0.1407 - accuracy: 0.9344\n",
      "Epoch 6/20\n",
      "784/784 [==============================] - 1s 1ms/step - loss: 0.1403 - accuracy: 0.9369\n",
      "Epoch 7/20\n",
      "784/784 [==============================] - 1s 1ms/step - loss: 0.1401 - accuracy: 0.9380\n",
      "Epoch 8/20\n",
      "784/784 [==============================] - 1s 1ms/step - loss: 0.1396 - accuracy: 0.9383\n",
      "Epoch 9/20\n",
      "784/784 [==============================] - 1s 1ms/step - loss: 0.1396 - accuracy: 0.9389\n",
      "Epoch 10/20\n",
      "784/784 [==============================] - 1s 1ms/step - loss: 0.1393 - accuracy: 0.9393\n",
      "Epoch 11/20\n",
      "784/784 [==============================] - 1s 1ms/step - loss: 0.1392 - accuracy: 0.9393\n",
      "Epoch 12/20\n",
      "784/784 [==============================] - 1s 1ms/step - loss: 0.1393 - accuracy: 0.9395\n",
      "Epoch 13/20\n",
      "784/784 [==============================] - 1s 1ms/step - loss: 0.1391 - accuracy: 0.9392\n",
      "Epoch 14/20\n",
      "784/784 [==============================] - 1s 1ms/step - loss: 0.1391 - accuracy: 0.9396\n",
      "Epoch 15/20\n",
      "784/784 [==============================] - 1s 1ms/step - loss: 0.1388 - accuracy: 0.9399\n",
      "Epoch 16/20\n",
      "784/784 [==============================] - 1s 1ms/step - loss: 0.1388 - accuracy: 0.9398\n",
      "Epoch 17/20\n",
      "784/784 [==============================] - 1s 1ms/step - loss: 0.1389 - accuracy: 0.9395\n",
      "Epoch 18/20\n",
      "784/784 [==============================] - 1s 1ms/step - loss: 0.1386 - accuracy: 0.9397\n",
      "Epoch 19/20\n",
      "784/784 [==============================] - 1s 1ms/step - loss: 0.1387 - accuracy: 0.9397\n",
      "Epoch 20/20\n",
      "784/784 [==============================] - 1s 2ms/step - loss: 0.1386 - accuracy: 0.9398\n"
     ]
    }
   ],
   "source": [
    "# Separate Target Variable and Predictor Variables\n",
    "classifier = Sequential()\n",
    "# Defining the Input layer and FIRST hidden layer,both are same!\n",
    "# relu means Rectifier linear unit function\n",
    "# Creating the classifier ANN model\n",
    "classifier.add(Dense(units=19, input_dim=17, kernel_initializer='uniform', activation='relu'))\n",
    "classifier.add(Dense(units=14, kernel_initializer='uniform', activation='relu'))\n",
    "classifier.add(Dense(units=13, kernel_initializer='uniform', activation='relu'))\n",
    "classifier.add(Dense(units=12, kernel_initializer='uniform', activation='relu'))\n",
    "classifier.add(Dense(units=10, kernel_initializer='uniform', activation='softmax'))\n",
    "classifier.add(Dense(units=1, kernel_initializer='uniform', activation='sigmoid'))\n",
    "classifier.compile(optimizer='adam', loss='binary_crossentropy', metrics=['accuracy'])\n",
    "# metrics== the way we will compare the accuracy after each step of SGD\n",
    "classifier.compile(optimizer='adam', loss='binary_crossentropy', metrics=[ \"accuracy\"])\n",
    "# fitting the Neural Network on the training data\n",
    "classifier.fit(x_train,y_train.astype(int), batch_size=100 , epochs=20, verbose=1)\n",
    " "
   ]
  },
  {
   "cell_type": "code",
   "execution_count": 55,
   "metadata": {},
   "outputs": [],
   "source": [
    "# equivalent to: model.save(\"model.h5\")\n",
    "from keras.models import save_model\n",
    "save_model(classifier, \"model2.h5\")"
   ]
  },
  {
   "cell_type": "code",
   "execution_count": 59,
   "metadata": {},
   "outputs": [],
   "source": [
    "y_bin = y_train.astype(int)\n",
    "# Defining a function for finding best hyperparameters\n",
    "def FunctionFindBestParams(x_train, y_bin):\n",
    "    \n",
    "    # Defining the list of hyper parameters to try\n",
    "    TrialNumber=0\n",
    "    batch_size_list=[5, 10, 15, 20, 25]\n",
    "    epoch_list=[5, 10, 50 ,100]\n",
    "    \n",
    "    import pandas as pd\n",
    "    SearchResultsData=pd.DataFrame(columns=['TrialNumber', 'Parameters', 'Accuracy'])\n",
    "    \n",
    "    for batch_size_trial in batch_size_list:\n",
    "        for epochs_trial in epoch_list:\n",
    "            TrialNumber+=1\n",
    "            \n",
    "            # Creating the classifier ANN model\n",
    "            classifier = Sequential()\n",
    "            classifier.add(Dense(units=19, input_dim=17, kernel_initializer='uniform', activation='relu'))\n",
    "            classifier.add(Dense(units=14, kernel_initializer='uniform', activation='relu'))\n",
    "            classifier.add(Dense(units=13, kernel_initializer='uniform', activation='relu'))\n",
    "            classifier.add(Dense(units=12, kernel_initializer='uniform', activation='relu'))\n",
    "            classifier.add(Dense(units=10, kernel_initializer='uniform', activation='softmax'))\n",
    "            classifier.add(Dense(units=1, kernel_initializer='uniform', activation='sigmoid'))\n",
    "            classifier.compile(optimizer='adam', loss='binary_crossentropy', metrics=['accuracy'])\n",
    " \n",
    "            \n",
    "            survivalANN_Model=classifier.fit(x_train,y_bin, batch_size=batch_size_trial , epochs=epochs_trial, verbose=0)\n",
    "            # Fetching the accuracy of the training\n",
    "            Accuracy = survivalANN_Model.history['accuracy'][-1]\n",
    "            \n",
    "            # printing the results of the current iteration\n",
    "            print(TrialNumber, 'Parameters:','batch_size:', batch_size_trial,'-', 'epochs:',epochs_trial, 'Accuracy:', Accuracy)\n",
    "            \n",
    "            SearchResultsData=SearchResultsData.append(pd.DataFrame(data=[[TrialNumber,\n",
    "                            'batch_size'+str(batch_size_trial)+'-'+'epoch'+str(epochs_trial), Accuracy]],\n",
    "                                                                    columns=['TrialNumber', 'Parameters', 'Accuracy'] ))\n",
    "    return(SearchResultsData)\n",
    " \n",
    "###############################################\n",
    " \n",
    "# Calling the function\n",
    "ResultsData=FunctionFindBestParams(x_train, y_bin)\n",
    "\n"
   ]
  },
  {
   "cell_type": "code",
   "execution_count": 57,
   "metadata": {},
   "outputs": [
    {
     "data": {
      "text/html": [
       "<div>\n",
       "<style scoped>\n",
       "    .dataframe tbody tr th:only-of-type {\n",
       "        vertical-align: middle;\n",
       "    }\n",
       "\n",
       "    .dataframe tbody tr th {\n",
       "        vertical-align: top;\n",
       "    }\n",
       "\n",
       "    .dataframe thead th {\n",
       "        text-align: right;\n",
       "    }\n",
       "</style>\n",
       "<table border=\"1\" class=\"dataframe\">\n",
       "  <thead>\n",
       "    <tr style=\"text-align: right;\">\n",
       "      <th></th>\n",
       "      <th>TrialNumber</th>\n",
       "      <th>Parameters</th>\n",
       "      <th>Accuracy</th>\n",
       "    </tr>\n",
       "  </thead>\n",
       "  <tbody>\n",
       "    <tr>\n",
       "      <th>0</th>\n",
       "      <td>1</td>\n",
       "      <td>batch_size5-epoch5</td>\n",
       "      <td>0.938247</td>\n",
       "    </tr>\n",
       "    <tr>\n",
       "      <th>0</th>\n",
       "      <td>2</td>\n",
       "      <td>batch_size5-epoch10</td>\n",
       "      <td>0.939217</td>\n",
       "    </tr>\n",
       "    <tr>\n",
       "      <th>0</th>\n",
       "      <td>3</td>\n",
       "      <td>batch_size5-epoch50</td>\n",
       "      <td>0.940838</td>\n",
       "    </tr>\n",
       "    <tr>\n",
       "      <th>0</th>\n",
       "      <td>4</td>\n",
       "      <td>batch_size5-epoch100</td>\n",
       "      <td>0.933321</td>\n",
       "    </tr>\n",
       "    <tr>\n",
       "      <th>0</th>\n",
       "      <td>5</td>\n",
       "      <td>batch_size10-epoch5</td>\n",
       "      <td>0.938490</td>\n",
       "    </tr>\n",
       "    <tr>\n",
       "      <th>0</th>\n",
       "      <td>6</td>\n",
       "      <td>batch_size10-epoch10</td>\n",
       "      <td>0.939064</td>\n",
       "    </tr>\n",
       "    <tr>\n",
       "      <th>0</th>\n",
       "      <td>7</td>\n",
       "      <td>batch_size10-epoch50</td>\n",
       "      <td>0.940978</td>\n",
       "    </tr>\n",
       "    <tr>\n",
       "      <th>0</th>\n",
       "      <td>8</td>\n",
       "      <td>batch_size10-epoch100</td>\n",
       "      <td>0.941986</td>\n",
       "    </tr>\n",
       "    <tr>\n",
       "      <th>0</th>\n",
       "      <td>9</td>\n",
       "      <td>batch_size15-epoch5</td>\n",
       "      <td>0.938796</td>\n",
       "    </tr>\n",
       "    <tr>\n",
       "      <th>0</th>\n",
       "      <td>10</td>\n",
       "      <td>batch_size15-epoch10</td>\n",
       "      <td>0.939128</td>\n",
       "    </tr>\n",
       "    <tr>\n",
       "      <th>0</th>\n",
       "      <td>11</td>\n",
       "      <td>batch_size15-epoch50</td>\n",
       "      <td>0.940902</td>\n",
       "    </tr>\n",
       "    <tr>\n",
       "      <th>0</th>\n",
       "      <td>12</td>\n",
       "      <td>batch_size15-epoch100</td>\n",
       "      <td>0.941667</td>\n",
       "    </tr>\n",
       "    <tr>\n",
       "      <th>0</th>\n",
       "      <td>13</td>\n",
       "      <td>batch_size20-epoch5</td>\n",
       "      <td>0.938694</td>\n",
       "    </tr>\n",
       "    <tr>\n",
       "      <th>0</th>\n",
       "      <td>14</td>\n",
       "      <td>batch_size20-epoch10</td>\n",
       "      <td>0.936780</td>\n",
       "    </tr>\n",
       "    <tr>\n",
       "      <th>0</th>\n",
       "      <td>15</td>\n",
       "      <td>batch_size20-epoch50</td>\n",
       "      <td>0.939345</td>\n",
       "    </tr>\n",
       "    <tr>\n",
       "      <th>0</th>\n",
       "      <td>16</td>\n",
       "      <td>batch_size20-epoch100</td>\n",
       "      <td>0.941782</td>\n",
       "    </tr>\n",
       "    <tr>\n",
       "      <th>0</th>\n",
       "      <td>17</td>\n",
       "      <td>batch_size25-epoch5</td>\n",
       "      <td>0.937967</td>\n",
       "    </tr>\n",
       "    <tr>\n",
       "      <th>0</th>\n",
       "      <td>18</td>\n",
       "      <td>batch_size25-epoch10</td>\n",
       "      <td>0.938962</td>\n",
       "    </tr>\n",
       "    <tr>\n",
       "      <th>0</th>\n",
       "      <td>19</td>\n",
       "      <td>batch_size25-epoch50</td>\n",
       "      <td>0.939996</td>\n",
       "    </tr>\n",
       "    <tr>\n",
       "      <th>0</th>\n",
       "      <td>20</td>\n",
       "      <td>batch_size25-epoch100</td>\n",
       "      <td>0.941642</td>\n",
       "    </tr>\n",
       "  </tbody>\n",
       "</table>\n",
       "</div>"
      ],
      "text/plain": [
       "  TrialNumber             Parameters  Accuracy\n",
       "0           1     batch_size5-epoch5  0.938247\n",
       "0           2    batch_size5-epoch10  0.939217\n",
       "0           3    batch_size5-epoch50  0.940838\n",
       "0           4   batch_size5-epoch100  0.933321\n",
       "0           5    batch_size10-epoch5  0.938490\n",
       "0           6   batch_size10-epoch10  0.939064\n",
       "0           7   batch_size10-epoch50  0.940978\n",
       "0           8  batch_size10-epoch100  0.941986\n",
       "0           9    batch_size15-epoch5  0.938796\n",
       "0          10   batch_size15-epoch10  0.939128\n",
       "0          11   batch_size15-epoch50  0.940902\n",
       "0          12  batch_size15-epoch100  0.941667\n",
       "0          13    batch_size20-epoch5  0.938694\n",
       "0          14   batch_size20-epoch10  0.936780\n",
       "0          15   batch_size20-epoch50  0.939345\n",
       "0          16  batch_size20-epoch100  0.941782\n",
       "0          17    batch_size25-epoch5  0.937967\n",
       "0          18   batch_size25-epoch10  0.938962\n",
       "0          19   batch_size25-epoch50  0.939996\n",
       "0          20  batch_size25-epoch100  0.941642"
      ]
     },
     "execution_count": 57,
     "metadata": {},
     "output_type": "execute_result"
    }
   ],
   "source": [
    "ResultsData"
   ]
  },
  {
   "cell_type": "code",
   "execution_count": 33,
   "metadata": {},
   "outputs": [
    {
     "name": "stdout",
     "output_type": "stream",
     "text": [
      "  TrialNumber             Parameters  Accuracy\n",
      "0          12  batch_size15-epoch100  0.942229\n"
     ]
    },
    {
     "data": {
      "text/plain": [
       "<AxesSubplot: xlabel='Parameters'>"
      ]
     },
     "execution_count": 33,
     "metadata": {},
     "output_type": "execute_result"
    },
    {
     "data": {
      "image/png": "[encoded data removed]",
      "text/plain": [
       "<Figure size 1500x400 with 1 Axes>"
      ]
     },
     "metadata": {},
     "output_type": "display_data"
    }
   ],
   "source": [
    "\n",
    "# Printing the best parameter\n",
    "print(ResultsData.sort_values(by='Accuracy', ascending=False).head(1))\n",
    " \n",
    "\n",
    "# Visualizing the results\n",
    "%matplotlib inline\n",
    "ResultsData.plot(x='Parameters', y='Accuracy', figsize=(15,4), kind='line', rot=20)"
   ]
  },
  {
   "cell_type": "code",
   "execution_count": 58,
   "metadata": {},
   "outputs": [
    {
     "name": "stdout",
     "output_type": "stream",
     "text": [
      "Epoch 1/100\n",
      "3919/3919 [==============================] - 5s 1ms/step - loss: 0.1402 - accuracy: 0.9394\n",
      "Epoch 2/100\n",
      "3919/3919 [==============================] - 5s 1ms/step - loss: 0.1396 - accuracy: 0.9393\n",
      "Epoch 3/100\n",
      "3919/3919 [==============================] - 5s 1ms/step - loss: 0.1395 - accuracy: 0.9397\n",
      "Epoch 4/100\n",
      "3919/3919 [==============================] - 5s 1ms/step - loss: 0.1392 - accuracy: 0.9393\n",
      "Epoch 5/100\n",
      "3919/3919 [==============================] - 5s 1ms/step - loss: 0.1391 - accuracy: 0.9396\n",
      "Epoch 6/100\n",
      "3919/3919 [==============================] - 5s 1ms/step - loss: 0.1392 - accuracy: 0.9391\n",
      "Epoch 7/100\n",
      "3919/3919 [==============================] - 5s 1ms/step - loss: 0.1386 - accuracy: 0.9402\n",
      "Epoch 8/100\n",
      "3919/3919 [==============================] - 5s 1ms/step - loss: 0.1387 - accuracy: 0.9399\n",
      "Epoch 9/100\n",
      "3919/3919 [==============================] - 6s 1ms/step - loss: 0.1386 - accuracy: 0.9401\n",
      "Epoch 10/100\n",
      "3919/3919 [==============================] - 5s 1ms/step - loss: 0.1384 - accuracy: 0.9394\n",
      "Epoch 11/100\n",
      "3919/3919 [==============================] - 6s 1ms/step - loss: 0.1384 - accuracy: 0.9399\n",
      "Epoch 12/100\n",
      "3919/3919 [==============================] - 5s 1ms/step - loss: 0.1382 - accuracy: 0.9397\n",
      "Epoch 13/100\n",
      "3919/3919 [==============================] - 5s 1ms/step - loss: 0.1380 - accuracy: 0.9399\n",
      "Epoch 14/100\n",
      "3919/3919 [==============================] - 5s 1ms/step - loss: 0.1382 - accuracy: 0.9399\n",
      "Epoch 15/100\n",
      "3919/3919 [==============================] - 5s 1ms/step - loss: 0.1380 - accuracy: 0.9396\n",
      "Epoch 16/100\n",
      "3919/3919 [==============================] - 5s 1ms/step - loss: 0.1379 - accuracy: 0.9399\n",
      "Epoch 17/100\n",
      "3919/3919 [==============================] - 5s 1ms/step - loss: 0.1379 - accuracy: 0.9400\n",
      "Epoch 18/100\n",
      "3919/3919 [==============================] - 5s 1ms/step - loss: 0.1380 - accuracy: 0.9399\n",
      "Epoch 19/100\n",
      "3919/3919 [==============================] - 5s 1ms/step - loss: 0.1376 - accuracy: 0.9400\n",
      "Epoch 20/100\n",
      "3919/3919 [==============================] - 5s 1ms/step - loss: 0.1377 - accuracy: 0.9399\n",
      "Epoch 21/100\n",
      "3919/3919 [==============================] - 5s 1ms/step - loss: 0.1378 - accuracy: 0.9400\n",
      "Epoch 22/100\n",
      "3919/3919 [==============================] - 5s 1ms/step - loss: 0.1376 - accuracy: 0.9402\n",
      "Epoch 23/100\n",
      "3919/3919 [==============================] - 6s 1ms/step - loss: 0.1374 - accuracy: 0.9403\n",
      "Epoch 24/100\n",
      "3919/3919 [==============================] - 5s 1ms/step - loss: 0.1374 - accuracy: 0.9402\n",
      "Epoch 25/100\n",
      "3919/3919 [==============================] - 5s 1ms/step - loss: 0.1371 - accuracy: 0.9401\n",
      "Epoch 26/100\n",
      "3919/3919 [==============================] - 5s 1ms/step - loss: 0.1371 - accuracy: 0.9405\n",
      "Epoch 27/100\n",
      "3919/3919 [==============================] - 6s 1ms/step - loss: 0.1372 - accuracy: 0.9406\n",
      "Epoch 28/100\n",
      "3919/3919 [==============================] - 6s 1ms/step - loss: 0.1372 - accuracy: 0.9403\n",
      "Epoch 29/100\n",
      "3919/3919 [==============================] - 5s 1ms/step - loss: 0.1371 - accuracy: 0.9405\n",
      "Epoch 30/100\n",
      "3919/3919 [==============================] - 5s 1ms/step - loss: 0.1370 - accuracy: 0.9405\n",
      "Epoch 31/100\n",
      "3919/3919 [==============================] - 5s 1ms/step - loss: 0.1368 - accuracy: 0.9405\n",
      "Epoch 32/100\n",
      "3919/3919 [==============================] - 5s 1ms/step - loss: 0.1368 - accuracy: 0.9401\n",
      "Epoch 33/100\n",
      "3919/3919 [==============================] - 6s 1ms/step - loss: 0.1366 - accuracy: 0.9406\n",
      "Epoch 34/100\n",
      "3919/3919 [==============================] - 5s 1ms/step - loss: 0.1367 - accuracy: 0.9410\n",
      "Epoch 35/100\n",
      "3919/3919 [==============================] - 6s 1ms/step - loss: 0.1367 - accuracy: 0.9405\n",
      "Epoch 36/100\n",
      "3919/3919 [==============================] - 6s 1ms/step - loss: 0.1367 - accuracy: 0.9402\n",
      "Epoch 37/100\n",
      "3919/3919 [==============================] - 6s 1ms/step - loss: 0.1365 - accuracy: 0.9404\n",
      "Epoch 38/100\n",
      "3919/3919 [==============================] - 7s 2ms/step - loss: 0.1365 - accuracy: 0.9411\n",
      "Epoch 39/100\n",
      "3919/3919 [==============================] - 5s 1ms/step - loss: 0.1364 - accuracy: 0.9406\n",
      "Epoch 40/100\n",
      "3919/3919 [==============================] - 5s 1ms/step - loss: 0.1364 - accuracy: 0.9405\n",
      "Epoch 41/100\n",
      "3919/3919 [==============================] - 5s 1ms/step - loss: 0.1363 - accuracy: 0.9407\n",
      "Epoch 42/100\n",
      "3919/3919 [==============================] - 5s 1ms/step - loss: 0.1362 - accuracy: 0.9408\n",
      "Epoch 43/100\n",
      "3919/3919 [==============================] - 5s 1ms/step - loss: 0.1363 - accuracy: 0.9407\n",
      "Epoch 44/100\n",
      "3919/3919 [==============================] - 5s 1ms/step - loss: 0.1362 - accuracy: 0.9408\n",
      "Epoch 45/100\n",
      "3919/3919 [==============================] - 5s 1ms/step - loss: 0.1361 - accuracy: 0.9406\n",
      "Epoch 46/100\n",
      "3919/3919 [==============================] - 5s 1ms/step - loss: 0.1359 - accuracy: 0.9409\n",
      "Epoch 47/100\n",
      "3919/3919 [==============================] - 5s 1ms/step - loss: 0.1359 - accuracy: 0.9411\n",
      "Epoch 48/100\n",
      "3919/3919 [==============================] - 5s 1ms/step - loss: 0.1359 - accuracy: 0.9409\n",
      "Epoch 49/100\n",
      "3919/3919 [==============================] - 5s 1ms/step - loss: 0.1357 - accuracy: 0.9414\n",
      "Epoch 50/100\n",
      "3919/3919 [==============================] - 6s 2ms/step - loss: 0.1359 - accuracy: 0.9408\n",
      "Epoch 51/100\n",
      "3919/3919 [==============================] - 5s 1ms/step - loss: 0.1356 - accuracy: 0.9413\n",
      "Epoch 52/100\n",
      "3919/3919 [==============================] - 5s 1ms/step - loss: 0.1356 - accuracy: 0.9413\n",
      "Epoch 53/100\n",
      "3919/3919 [==============================] - 5s 1ms/step - loss: 0.1357 - accuracy: 0.9411\n",
      "Epoch 54/100\n",
      "3919/3919 [==============================] - 5s 1ms/step - loss: 0.1356 - accuracy: 0.9412\n",
      "Epoch 55/100\n",
      "3919/3919 [==============================] - 5s 1ms/step - loss: 0.1355 - accuracy: 0.9409\n",
      "Epoch 56/100\n",
      "3919/3919 [==============================] - 5s 1ms/step - loss: 0.1354 - accuracy: 0.9408\n",
      "Epoch 57/100\n",
      "3919/3919 [==============================] - 5s 1ms/step - loss: 0.1354 - accuracy: 0.9416\n",
      "Epoch 58/100\n",
      "3919/3919 [==============================] - 5s 1ms/step - loss: 0.1352 - accuracy: 0.9416\n",
      "Epoch 59/100\n",
      "3919/3919 [==============================] - 5s 1ms/step - loss: 0.1355 - accuracy: 0.9416\n",
      "Epoch 60/100\n",
      "3919/3919 [==============================] - 5s 1ms/step - loss: 0.1353 - accuracy: 0.9413\n",
      "Epoch 61/100\n",
      "3919/3919 [==============================] - 5s 1ms/step - loss: 0.1353 - accuracy: 0.9414\n",
      "Epoch 62/100\n",
      "3919/3919 [==============================] - 5s 1ms/step - loss: 0.1353 - accuracy: 0.9414\n",
      "Epoch 63/100\n",
      "3919/3919 [==============================] - 5s 1ms/step - loss: 0.1351 - accuracy: 0.9415\n",
      "Epoch 64/100\n",
      "3919/3919 [==============================] - 5s 1ms/step - loss: 0.1352 - accuracy: 0.9419\n",
      "Epoch 65/100\n",
      "3919/3919 [==============================] - 5s 1ms/step - loss: 0.1351 - accuracy: 0.9417\n",
      "Epoch 66/100\n",
      "3919/3919 [==============================] - 5s 1ms/step - loss: 0.1351 - accuracy: 0.9409\n",
      "Epoch 67/100\n",
      "3919/3919 [==============================] - 5s 1ms/step - loss: 0.1351 - accuracy: 0.9413\n",
      "Epoch 68/100\n",
      "3919/3919 [==============================] - 5s 1ms/step - loss: 0.1353 - accuracy: 0.9417\n",
      "Epoch 69/100\n",
      "3919/3919 [==============================] - 5s 1ms/step - loss: 0.1350 - accuracy: 0.9413\n",
      "Epoch 70/100\n",
      "3919/3919 [==============================] - 5s 1ms/step - loss: 0.1350 - accuracy: 0.9415\n",
      "Epoch 71/100\n",
      "3919/3919 [==============================] - 5s 1ms/step - loss: 0.1348 - accuracy: 0.9415\n",
      "Epoch 72/100\n",
      "3919/3919 [==============================] - 5s 1ms/step - loss: 0.1350 - accuracy: 0.9415\n",
      "Epoch 73/100\n",
      "3919/3919 [==============================] - 5s 1ms/step - loss: 0.1349 - accuracy: 0.9415\n",
      "Epoch 74/100\n",
      "3919/3919 [==============================] - 5s 1ms/step - loss: 0.1347 - accuracy: 0.9419\n",
      "Epoch 75/100\n",
      "3919/3919 [==============================] - 5s 1ms/step - loss: 0.1349 - accuracy: 0.9420\n",
      "Epoch 76/100\n",
      "3919/3919 [==============================] - 5s 1ms/step - loss: 0.1348 - accuracy: 0.9414\n",
      "Epoch 77/100\n",
      "3919/3919 [==============================] - 5s 1ms/step - loss: 0.1347 - accuracy: 0.9419\n",
      "Epoch 78/100\n",
      "3919/3919 [==============================] - 5s 1ms/step - loss: 0.1348 - accuracy: 0.9413\n",
      "Epoch 79/100\n",
      "3919/3919 [==============================] - 5s 1ms/step - loss: 0.1348 - accuracy: 0.9416\n",
      "Epoch 80/100\n",
      "3919/3919 [==============================] - 5s 1ms/step - loss: 0.1348 - accuracy: 0.9415\n",
      "Epoch 81/100\n",
      "3919/3919 [==============================] - 5s 1ms/step - loss: 0.1346 - accuracy: 0.9416\n",
      "Epoch 82/100\n",
      "3919/3919 [==============================] - 5s 1ms/step - loss: 0.1346 - accuracy: 0.9417\n",
      "Epoch 83/100\n",
      "3919/3919 [==============================] - 5s 1ms/step - loss: 0.1345 - accuracy: 0.9417\n",
      "Epoch 84/100\n",
      "3919/3919 [==============================] - 5s 1ms/step - loss: 0.1348 - accuracy: 0.9412\n",
      "Epoch 85/100\n",
      "3919/3919 [==============================] - 6s 1ms/step - loss: 0.1347 - accuracy: 0.9420\n",
      "Epoch 86/100\n",
      "3919/3919 [==============================] - 5s 1ms/step - loss: 0.1347 - accuracy: 0.9415\n",
      "Epoch 87/100\n",
      "3919/3919 [==============================] - 5s 1ms/step - loss: 0.1345 - accuracy: 0.9417\n",
      "Epoch 88/100\n",
      "3919/3919 [==============================] - 5s 1ms/step - loss: 0.1343 - accuracy: 0.9420\n",
      "Epoch 89/100\n",
      "3919/3919 [==============================] - 5s 1ms/step - loss: 0.1344 - accuracy: 0.9418\n",
      "Epoch 90/100\n",
      "3919/3919 [==============================] - 5s 1ms/step - loss: 0.1345 - accuracy: 0.9414\n",
      "Epoch 91/100\n",
      "3919/3919 [==============================] - 5s 1ms/step - loss: 0.1343 - accuracy: 0.9419\n",
      "Epoch 92/100\n",
      "3919/3919 [==============================] - 5s 1ms/step - loss: 0.1345 - accuracy: 0.9416\n",
      "Epoch 93/100\n",
      "3919/3919 [==============================] - 5s 1ms/step - loss: 0.1342 - accuracy: 0.9420\n",
      "Epoch 94/100\n",
      "3919/3919 [==============================] - 5s 1ms/step - loss: 0.1341 - accuracy: 0.9416\n",
      "Epoch 95/100\n",
      "3919/3919 [==============================] - 5s 1ms/step - loss: 0.1343 - accuracy: 0.9419\n",
      "Epoch 96/100\n",
      "3919/3919 [==============================] - 5s 1ms/step - loss: 0.1342 - accuracy: 0.9422\n",
      "Epoch 97/100\n",
      "3919/3919 [==============================] - 5s 1ms/step - loss: 0.1339 - accuracy: 0.9420\n",
      "Epoch 98/100\n",
      "3919/3919 [==============================] - 5s 1ms/step - loss: 0.1340 - accuracy: 0.9420\n",
      "Epoch 99/100\n",
      "3919/3919 [==============================] - 5s 1ms/step - loss: 0.1340 - accuracy: 0.9422\n",
      "Epoch 100/100\n",
      "3919/3919 [==============================] - 5s 1ms/step - loss: 0.1340 - accuracy: 0.9415\n"
     ]
    },
    {
     "data": {
      "text/plain": [
       "<keras.callbacks.History at 0x1f85de7bd60>"
      ]
     },
     "execution_count": 58,
     "metadata": {},
     "output_type": "execute_result"
    }
   ],
   "source": [
    "\n",
    "# Training the model with best hyperparamters\n",
    "bb=classifier.fit(x_train,y_train, batch_size=20 , epochs=100, verbose=1)\n",
    "bb"
   ]
  },
  {
   "cell_type": "code",
   "execution_count": 52,
   "metadata": {},
   "outputs": [],
   "source": [
    "# equivalent to: model.save(\"model.h5\")\n",
    "save_model(classifier, \"model.h5\")"
   ]
  },
  {
   "cell_type": "code",
   "execution_count": 53,
   "metadata": {},
   "outputs": [
    {
     "name": "stdout",
     "output_type": "stream",
     "text": [
      "Model: \"sequential_59\"\n",
      "_________________________________________________________________\n",
      " Layer (type)                Output Shape              Param #   \n",
      "=================================================================\n",
      " dense_295 (Dense)           (None, 19)                342       \n",
      "                                                                 \n",
      " dense_296 (Dense)           (None, 14)                280       \n",
      "                                                                 \n",
      " dense_297 (Dense)           (None, 13)                195       \n",
      "                                                                 \n",
      " dense_298 (Dense)           (None, 12)                168       \n",
      "                                                                 \n",
      " dense_299 (Dense)           (None, 6)                 78        \n",
      "                                                                 \n",
      " dense_300 (Dense)           (None, 1)                 7         \n",
      "                                                                 \n",
      "=================================================================\n",
      "Total params: 1,070\n",
      "Trainable params: 1,070\n",
      "Non-trainable params: 0\n",
      "_________________________________________________________________\n"
     ]
    }
   ],
   "source": [
    "# load model\n",
    "model = load_model('model.h5')\n",
    "# summarize model.\n",
    "model.summary()"
   ]
  },
  {
   "cell_type": "code",
   "execution_count": 54,
   "metadata": {},
   "outputs": [
    {
     "name": "stdout",
     "output_type": "stream",
     "text": [
      "accuracy: 93.75%\n"
     ]
    }
   ],
   "source": [
    "scores = model.evaluate(x_test, y_test, verbose=0)\n",
    "print(\"%s: %.2f%%\" % (model.metrics_names[1], scores[1]*100))"
   ]
  },
  {
   "cell_type": "code",
   "execution_count": 19,
   "metadata": {},
   "outputs": [
    {
     "name": "stdout",
     "output_type": "stream",
     "text": [
      "817/817 [==============================] - 1s 673us/step\n"
     ]
    },
    {
     "ename": "NameError",
     "evalue": "name 'PredictorScalerFit' is not defined",
     "output_type": "error",
     "traceback": [
      "\u001b[1;31m---------------------------------------------------------------------------\u001b[0m",
      "\u001b[1;31mNameError\u001b[0m                                 Traceback (most recent call last)",
      "\u001b[1;32mc:\\Users\\igor-\\OneDrive\\Área de Trabalho\\Deepen\\AMCRED\\Script_BdF.ipynb Cell 30\u001b[0m in \u001b[0;36m5\n\u001b[0;32m      <a href='vscode-notebook-cell:/c%3A/Users/igor-/OneDrive/%C3%81rea%20de%20Trabalho/Deepen/AMCRED/Script_BdF.ipynb#X40sZmlsZQ%3D%3D?line=1'>2</a>\u001b[0m Predictions\u001b[39m=\u001b[39mclassifier\u001b[39m.\u001b[39mpredict(x_test)\n\u001b[0;32m      <a href='vscode-notebook-cell:/c%3A/Users/igor-/OneDrive/%C3%81rea%20de%20Trabalho/Deepen/AMCRED/Script_BdF.ipynb#X40sZmlsZQ%3D%3D?line=3'>4</a>\u001b[0m \u001b[39m# Scaling the test data back to original scale\u001b[39;00m\n\u001b[1;32m----> <a href='vscode-notebook-cell:/c%3A/Users/igor-/OneDrive/%C3%81rea%20de%20Trabalho/Deepen/AMCRED/Script_BdF.ipynb#X40sZmlsZQ%3D%3D?line=4'>5</a>\u001b[0m Test_Data\u001b[39m=\u001b[39mPredictorScalerFit\u001b[39m.\u001b[39minverse_transform(x_test)\n",
      "\u001b[1;31mNameError\u001b[0m: name 'PredictorScalerFit' is not defined"
     ]
    }
   ],
   "source": [
    "\n",
    "# Predictions on testing data\n",
    "Predictions=model.predict(x_test)\n",
    " \n",
    " \n"
   ]
  },
  {
   "attachments": {},
   "cell_type": "markdown",
   "metadata": {},
   "source": [
    "# Generating a data frame for analyzing the test data\n",
    "TestingData=pd.DataFrame(data=Test_Data, columns=Predictors)\n",
    "TestingData['Survival']=y_test\n",
    "TestingData['PredictedSurvivalProb']=Predictions\n",
    " \n",
    "# Defining the probability threshold\n",
    "def probThreshold(inpProb):\n",
    "    if inpProb  >  0.5:\n",
    "        return(1)\n",
    "    else:\n",
    "        return(0)\n",
    " \n",
    "# Generating predictions on the testing data by applying probability threshold\n",
    "TestingData['PredictedSurvival']=TestingData['PredictedSurvivalProb'].apply(probThreshold)\n",
    "print(TestingData.head())\n",
    "\n",
    "from sklearn import metrics\n",
    "print('\\n######### Testing Accuracy Results #########')\n",
    "print(metrics.classification_report(TestingData['Survival'], TestingData['PredictedSurvival']))\n",
    "print(metrics.confusion_matrix(TestingData['Survival'], TestingData['PredictedSurvival']))"
   ]
  },
  {
   "attachments": {},
   "cell_type": "markdown",
   "metadata": {},
   "source": []
  }
 ],
 "metadata": {
  "kernelspec": {
   "display_name": "base",
   "language": "python",
   "name": "python3"
  },
  "language_info": {
   "codemirror_mode": {
    "name": "ipython",
    "version": 3
   },
   "file_extension": ".py",
   "mimetype": "text/x-python",
   "name": "python",
   "nbconvert_exporter": "python",
   "pygments_lexer": "ipython3",
   "version": "3.9.15"
  },
  "orig_nbformat": 4
 },
 "nbformat": 4,
 "nbformat_minor": 2
}
