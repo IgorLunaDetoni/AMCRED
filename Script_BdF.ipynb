{
 "cells": [
  {
   "cell_type": "code",
   "execution_count": 2,
   "metadata": {},
   "outputs": [],
   "source": [
    "import pandas as pd\n",
    "import xgboost as xgb\n",
    "import numpy as np\n",
    "from sklearn.model_selection import train_test_split\n",
    "from sklearn.model_selection import KFold\n",
    "from sklearn.model_selection import GridSearchCV\n",
    "from sklearn.metrics import make_scorer, cohen_kappa_score, accuracy_score, roc_auc_score\n",
    "from xgboost import XGBRegressor\n",
    "from sklearn.metrics import confusion_matrix,classification_report,accuracy_score\n",
    "import seaborn as sns\n",
    "import numpy as np\n",
    "import xgboost as xgb\n",
    "\n",
    "\n",
    "\n",
    "%matplotlib inline"
   ]
  },
  {
   "cell_type": "code",
   "execution_count": 3,
   "metadata": {},
   "outputs": [],
   "source": [
    "df = pd.read_feather(r'AMCRED\\BLUSOL\\BLUSOL\\big_frame_4.feather')"
   ]
  },
  {
   "cell_type": "code",
   "execution_count": 4,
   "metadata": {},
   "outputs": [],
   "source": [
    "x_train,x_test,y_train,y_test = train_test_split(df.drop('DEFAULT',axis = 1).values,df['DEFAULT'].values,test_size = 0.25)"
   ]
  },
  {
   "cell_type": "code",
   "execution_count": 6,
   "metadata": {},
   "outputs": [],
   "source": [
    "\n",
    "# Define the XGBoost classifier and the parameter grid for GridSearchCV\n",
    "classifier = xgb.XGBClassifier()\n",
    "parameters = {\n",
    "    'learning_rate': [0.01,0.03],\n",
    "    'max_depth': [5, 6],\n",
    "    'min_child_weight': [4],\n",
    "    'n_estimators': [1000,1100, 1200],\n",
    "    'scale_pos_weight':list(range(20,60,10)),\n",
    "    \"colsample_bytree\":[0.75,0.5,1],\n",
    "    \"gamma\":[0.001,0.01,0.2]}\n",
    "\n",
    "# Create an instance of GridSearchCV with the classifier and parameter grid\n",
    "gridsearch = GridSearchCV(estimator=classifier, param_grid=parameters, scoring='roc_auc', cv=5)\n",
    "\n",
    "# Fit the GridSearchCV instance to the training data\n",
    "grid=gridsearch.fit(x_train, y_train)"
   ]
  },
  {
   "cell_type": "code",
   "execution_count": 7,
   "metadata": {},
   "outputs": [
    {
     "name": "stdout",
     "output_type": "stream",
     "text": [
      "0.9396702048369964\n",
      "{'colsample_bytree': 0.5, 'gamma': 0.01, 'learning_rate': 0.01, 'max_depth': 5, 'min_child_weight': 4, 'n_estimators': 1100, 'scale_pos_weight': 20}\n"
     ]
    }
   ],
   "source": [
    "# Find the best parameters and the best score\n",
    "best_params = grid.best_params_\n",
    "best_score = grid.best_score_\n",
    "print(best_score)\n",
    "print(best_params)"
   ]
  },
  {
   "cell_type": "code",
   "execution_count": 9,
   "metadata": {},
   "outputs": [],
   "source": [
    "final=classifier.fit(x_train, y_train)\n",
    "y_pred = final.predict(x_test)"
   ]
  },
  {
   "cell_type": "code",
   "execution_count": 10,
   "metadata": {},
   "outputs": [
    {
     "data": {
      "text/plain": [
       "<AxesSubplot: >"
      ]
     },
     "execution_count": 10,
     "metadata": {},
     "output_type": "execute_result"
    },
    {
     "data": {
      "image/png": "[encoded data removed]",
      "text/plain": [
       "<Figure size 640x480 with 2 Axes>"
      ]
     },
     "metadata": {},
     "output_type": "display_data"
    }
   ],
   "source": [
    "cm = confusion_matrix(y_test,y_pred)\n",
    "sns.heatmap(cm,annot=True,cmap='viridis')"
   ]
  },
  {
   "cell_type": "code",
   "execution_count": 11,
   "metadata": {},
   "outputs": [
    {
     "name": "stdout",
     "output_type": "stream",
     "text": [
      "              precision    recall  f1-score   support\n",
      "\n",
      "       False       0.95      0.98      0.97     24340\n",
      "        True       0.57      0.34      0.42      1781\n",
      "\n",
      "    accuracy                           0.94     26121\n",
      "   macro avg       0.76      0.66      0.69     26121\n",
      "weighted avg       0.93      0.94      0.93     26121\n",
      "\n"
     ]
    }
   ],
   "source": [
    "print(classification_report(y_test,y_pred))"
   ]
  },
  {
   "cell_type": "code",
   "execution_count": 12,
   "metadata": {},
   "outputs": [
    {
     "name": "stdout",
     "output_type": "stream",
     "text": [
      "Best Parameters:  {'colsample_bytree': 0.5, 'gamma': 0.01, 'learning_rate': 0.01, 'max_depth': 5, 'min_child_weight': 4, 'n_estimators': 1100, 'scale_pos_weight': 20}\n",
      "Best Score:  0.9396702048369964\n",
      "ROC AUC:  0.6587966562044256\n",
      "Cohen's Kappa:  0.39156086625655073\n"
     ]
    }
   ],
   "source": [
    "\n",
    "\n",
    "roc_auc = roc_auc_score(y_test, y_pred)\n",
    "cohen_kappa = cohen_kappa_score(y_test, y_pred)\n",
    "\n",
    "print(\"Best Parameters: \", best_params)\n",
    "print(\"Best Score: \", best_score)\n",
    "print(\"ROC AUC: \", roc_auc)\n",
    "print(\"Cohen's Kappa: \", cohen_kappa)\n"
   ]
  },
  {
   "attachments": {},
   "cell_type": "markdown",
   "metadata": {},
   "source": [
    "x,y = df.drop('DEFAULT',axis = 1).values,df['DEFAULT'].values\n",
    "cv = KFold(n_splits = 5)\n",
    "params = {'max_depth': [5,6,7,10],\n",
    "           'learning_rate': [0.01, 0.05, 0.1],\n",
    "           'n_estimators': [100, 500, 1000],\n",
    "           'colsample_bytree': [0.3, 0.7],\n",
    "         'scale_pos_weight':list(range(30,60,10))}\n",
    "\n",
    "#Scores Kapp e AUC\n",
    "kappa_scorer = make_scorer(cohen_kappa_score)\n",
    "auc_scorer = make_scorer(roc_auc_score, needs_proba=True)\n",
    "\n",
    "scoring_metrics = {'kappa': kappa_scorer, 'auc': auc_scorer}\n",
    "                           \n",
    "model = xgb.XGBClassifier()\n",
    "grid = GridSearchCV(estimator = model, param_grid = params, cv = cv, scoring=scoring_metrics,verbose = 1, refit=\"auc\")\n",
    "grid_result = grid.fit(x,y)"
   ]
  },
  {
   "attachments": {},
   "cell_type": "markdown",
   "metadata": {},
   "source": [
    "def metric(real,pred):\n",
    "    return np.where(pred[real == 1] < 1,np.power(pred[real == 1],2),1).sum() * 100 + np.where(pred[real == 0] > 0,np.power(1 - pred[real == 0],2),1).sum()\n",
    "\n",
    "scorer = make_scorer(metric)\n",
    "\n",
    "clf = RandomizedSearchCV(estimator=xgbr,\n",
    "                         param_distributions=params,\n",
    "                         scoring='neg_mean_squared_error',\n",
    "                         n_iter=25,\n",
    "                         verbose=3,cv = cv)"
   ]
  },
  {
   "cell_type": "code",
   "execution_count": 42,
   "metadata": {},
   "outputs": [],
   "source": [
    "final.save_model(\"modelo_xgb_V1.txt\")"
   ]
  },
  {
   "cell_type": "code",
   "execution_count": 14,
   "metadata": {},
   "outputs": [],
   "source": [
    "# Define the XGBoost classifier and the parameter grid for GridSearchCV\n",
    "classifier = xgb.XGBClassifier()\n",
    "parameters = {\n",
    "    'learning_rate': [0.01, 0.1, 0.3],\n",
    "    'max_depth': [4, 5, 6, 7],\n",
    "    'n_estimators': [100, 500, 1000],\n",
    "    'min_child_weight': [3, 4, 5],\n",
    "    'scale_pos_weight':list(range(20,60,10))}\n",
    "\n",
    "# Create an instance of GridSearchCV with the classifier and parameter grid\n",
    "kappa_scorer = make_scorer(cohen_kappa_score)\n",
    "gridsearch = GridSearchCV(estimator=classifier, param_grid=parameters, scoring=kappa_scorer, cv=5)\n",
    "\n",
    "# Fit the GridSearchCV instance to the training data\n",
    "grid=gridsearch.fit(x_train, y_train)"
   ]
  },
  {
   "cell_type": "code",
   "execution_count": 15,
   "metadata": {},
   "outputs": [
    {
     "name": "stdout",
     "output_type": "stream",
     "text": [
      "0.45220489305927386\n",
      "{'learning_rate': 0.1, 'max_depth': 7, 'min_child_weight': 4, 'n_estimators': 1000, 'scale_pos_weight': 30}\n"
     ]
    }
   ],
   "source": [
    "# Find the best parameters and the best score\n",
    "best_params = grid.best_params_\n",
    "best_score = grid.best_score_\n",
    "print(best_score)\n",
    "print(best_params)"
   ]
  },
  {
   "cell_type": "code",
   "execution_count": 16,
   "metadata": {},
   "outputs": [],
   "source": [
    "final1=classifier.fit(x_train, y_train)\n",
    "y_pred = final.predict(x_test)"
   ]
  },
  {
   "cell_type": "code",
   "execution_count": 17,
   "metadata": {},
   "outputs": [
    {
     "data": {
      "text/plain": [
       "<AxesSubplot: >"
      ]
     },
     "execution_count": 17,
     "metadata": {},
     "output_type": "execute_result"
    },
    {
     "data": {
      "image/png": "[encoded data removed]",
      "text/plain": [
       "<Figure size 640x480 with 2 Axes>"
      ]
     },
     "metadata": {},
     "output_type": "display_data"
    }
   ],
   "source": [
    "cm = confusion_matrix(y_test,y_pred)\n",
    "sns.heatmap(cm,annot=True,cmap='viridis')"
   ]
  },
  {
   "cell_type": "code",
   "execution_count": 18,
   "metadata": {},
   "outputs": [
    {
     "name": "stdout",
     "output_type": "stream",
     "text": [
      "              precision    recall  f1-score   support\n",
      "\n",
      "       False       0.95      0.98      0.97     24365\n",
      "        True       0.56      0.33      0.42      1756\n",
      "\n",
      "    accuracy                           0.94     26121\n",
      "   macro avg       0.76      0.66      0.69     26121\n",
      "weighted avg       0.93      0.94      0.93     26121\n",
      "\n"
     ]
    }
   ],
   "source": [
    "print(classification_report(y_test,y_pred))"
   ]
  },
  {
   "cell_type": "code",
   "execution_count": 19,
   "metadata": {},
   "outputs": [
    {
     "name": "stdout",
     "output_type": "stream",
     "text": [
      "Best Parameters:  {'learning_rate': 0.1, 'max_depth': 7, 'min_child_weight': 4, 'n_estimators': 1000, 'scale_pos_weight': 30}\n",
      "Best Score:  0.45220489305927386\n",
      "ROC AUC:  0.6570524581780411\n",
      "Cohen's Kappa:  0.38815020877252115\n"
     ]
    }
   ],
   "source": [
    "roc_auc = roc_auc_score(y_test, y_pred)\n",
    "cohen_kappa = cohen_kappa_score(y_test, y_pred)\n",
    "\n",
    "print(\"Best Parameters: \", best_params)\n",
    "print(\"Best Score: \", best_score)\n",
    "print(\"ROC AUC: \", roc_auc)\n",
    "print(\"Cohen's Kappa: \", cohen_kappa)\n"
   ]
  },
  {
   "attachments": {},
   "cell_type": "markdown",
   "metadata": {},
   "source": [
    "### Rede Neural Classifier"
   ]
  },
  {
   "cell_type": "code",
   "execution_count": 7,
   "metadata": {},
   "outputs": [
    {
     "data": {
      "text/html": [
       "<div>\n",
       "<style scoped>\n",
       "    .dataframe tbody tr th:only-of-type {\n",
       "        vertical-align: middle;\n",
       "    }\n",
       "\n",
       "    .dataframe tbody tr th {\n",
       "        vertical-align: top;\n",
       "    }\n",
       "\n",
       "    .dataframe thead th {\n",
       "        text-align: right;\n",
       "    }\n",
       "</style>\n",
       "<table border=\"1\" class=\"dataframe\">\n",
       "  <thead>\n",
       "    <tr style=\"text-align: right;\">\n",
       "      <th></th>\n",
       "      <th>situacaodoimovelderesidencia</th>\n",
       "      <th>nropessoasnacasa</th>\n",
       "      <th>situacaoimoveldeatividade</th>\n",
       "      <th>tipodeponto</th>\n",
       "      <th>formacaoescolar</th>\n",
       "      <th>constituicao</th>\n",
       "      <th>pessoafisicajuridica</th>\n",
       "      <th>nrodefuncionarios</th>\n",
       "      <th>rendafamiliarmensal</th>\n",
       "      <th>totaldasreceitas</th>\n",
       "      <th>finalidadeemprestimo</th>\n",
       "      <th>taxaaomes</th>\n",
       "      <th>valoremprestado</th>\n",
       "      <th>quantidadeparcelas</th>\n",
       "      <th>conceitospc</th>\n",
       "      <th>valorparcela</th>\n",
       "      <th>pesoparcela</th>\n",
       "      <th>DEFAULT</th>\n",
       "    </tr>\n",
       "  </thead>\n",
       "  <tbody>\n",
       "    <tr>\n",
       "      <th>0</th>\n",
       "      <td>-0.642253</td>\n",
       "      <td>0.313479</td>\n",
       "      <td>0.030079</td>\n",
       "      <td>-0.629161</td>\n",
       "      <td>-0.031697</td>\n",
       "      <td>0.360688</td>\n",
       "      <td>1.890953</td>\n",
       "      <td>-0.058765</td>\n",
       "      <td>-0.004641</td>\n",
       "      <td>-0.013619</td>\n",
       "      <td>-0.775184</td>\n",
       "      <td>0.425537</td>\n",
       "      <td>-0.736380</td>\n",
       "      <td>-0.578737</td>\n",
       "      <td>3.065097</td>\n",
       "      <td>-0.353105</td>\n",
       "      <td>-0.454706</td>\n",
       "      <td>False</td>\n",
       "    </tr>\n",
       "    <tr>\n",
       "      <th>1</th>\n",
       "      <td>-0.642253</td>\n",
       "      <td>-0.078087</td>\n",
       "      <td>0.030079</td>\n",
       "      <td>1.589402</td>\n",
       "      <td>0.057219</td>\n",
       "      <td>0.360688</td>\n",
       "      <td>1.890953</td>\n",
       "      <td>-0.058765</td>\n",
       "      <td>-0.001092</td>\n",
       "      <td>-0.011746</td>\n",
       "      <td>-0.775184</td>\n",
       "      <td>0.425537</td>\n",
       "      <td>-0.063955</td>\n",
       "      <td>1.164573</td>\n",
       "      <td>-0.478508</td>\n",
       "      <td>-0.224240</td>\n",
       "      <td>-0.349945</td>\n",
       "      <td>False</td>\n",
       "    </tr>\n",
       "    <tr>\n",
       "      <th>2</th>\n",
       "      <td>2.087291</td>\n",
       "      <td>-0.078087</td>\n",
       "      <td>2.838781</td>\n",
       "      <td>1.589402</td>\n",
       "      <td>-0.031697</td>\n",
       "      <td>0.360688</td>\n",
       "      <td>1.890953</td>\n",
       "      <td>0.482467</td>\n",
       "      <td>-0.012919</td>\n",
       "      <td>0.033630</td>\n",
       "      <td>-0.775184</td>\n",
       "      <td>-0.360870</td>\n",
       "      <td>0.968164</td>\n",
       "      <td>1.164573</td>\n",
       "      <td>-0.478508</td>\n",
       "      <td>0.098897</td>\n",
       "      <td>-0.549765</td>\n",
       "      <td>False</td>\n",
       "    </tr>\n",
       "    <tr>\n",
       "      <th>3</th>\n",
       "      <td>-0.642253</td>\n",
       "      <td>0.705045</td>\n",
       "      <td>0.030079</td>\n",
       "      <td>1.589402</td>\n",
       "      <td>0.057219</td>\n",
       "      <td>-0.560714</td>\n",
       "      <td>0.098972</td>\n",
       "      <td>-0.058765</td>\n",
       "      <td>-0.001092</td>\n",
       "      <td>-0.001411</td>\n",
       "      <td>1.417033</td>\n",
       "      <td>-0.630729</td>\n",
       "      <td>-0.491908</td>\n",
       "      <td>-0.827781</td>\n",
       "      <td>-0.478508</td>\n",
       "      <td>-0.120299</td>\n",
       "      <td>-0.398116</td>\n",
       "      <td>False</td>\n",
       "    </tr>\n",
       "    <tr>\n",
       "      <th>4</th>\n",
       "      <td>-0.642253</td>\n",
       "      <td>-0.078087</td>\n",
       "      <td>-0.540502</td>\n",
       "      <td>-0.629161</td>\n",
       "      <td>-0.031697</td>\n",
       "      <td>-1.488522</td>\n",
       "      <td>-0.597817</td>\n",
       "      <td>0.121645</td>\n",
       "      <td>-0.001092</td>\n",
       "      <td>-0.004318</td>\n",
       "      <td>-0.775184</td>\n",
       "      <td>-0.630729</td>\n",
       "      <td>-0.572463</td>\n",
       "      <td>-0.827781</td>\n",
       "      <td>-0.478508</td>\n",
       "      <td>-0.184078</td>\n",
       "      <td>-0.391048</td>\n",
       "      <td>False</td>\n",
       "    </tr>\n",
       "  </tbody>\n",
       "</table>\n",
       "</div>"
      ],
      "text/plain": [
       "   situacaodoimovelderesidencia  nropessoasnacasa  situacaoimoveldeatividade  \\\n",
       "0                     -0.642253          0.313479                   0.030079   \n",
       "1                     -0.642253         -0.078087                   0.030079   \n",
       "2                      2.087291         -0.078087                   2.838781   \n",
       "3                     -0.642253          0.705045                   0.030079   \n",
       "4                     -0.642253         -0.078087                  -0.540502   \n",
       "\n",
       "   tipodeponto  formacaoescolar  constituicao  pessoafisicajuridica  \\\n",
       "0    -0.629161        -0.031697      0.360688              1.890953   \n",
       "1     1.589402         0.057219      0.360688              1.890953   \n",
       "2     1.589402        -0.031697      0.360688              1.890953   \n",
       "3     1.589402         0.057219     -0.560714              0.098972   \n",
       "4    -0.629161        -0.031697     -1.488522             -0.597817   \n",
       "\n",
       "   nrodefuncionarios  rendafamiliarmensal  totaldasreceitas  \\\n",
       "0          -0.058765            -0.004641         -0.013619   \n",
       "1          -0.058765            -0.001092         -0.011746   \n",
       "2           0.482467            -0.012919          0.033630   \n",
       "3          -0.058765            -0.001092         -0.001411   \n",
       "4           0.121645            -0.001092         -0.004318   \n",
       "\n",
       "   finalidadeemprestimo  taxaaomes  valoremprestado  quantidadeparcelas  \\\n",
       "0             -0.775184   0.425537        -0.736380           -0.578737   \n",
       "1             -0.775184   0.425537        -0.063955            1.164573   \n",
       "2             -0.775184  -0.360870         0.968164            1.164573   \n",
       "3              1.417033  -0.630729        -0.491908           -0.827781   \n",
       "4             -0.775184  -0.630729        -0.572463           -0.827781   \n",
       "\n",
       "   conceitospc  valorparcela  pesoparcela  DEFAULT  \n",
       "0     3.065097     -0.353105    -0.454706    False  \n",
       "1    -0.478508     -0.224240    -0.349945    False  \n",
       "2    -0.478508      0.098897    -0.549765    False  \n",
       "3    -0.478508     -0.120299    -0.398116    False  \n",
       "4    -0.478508     -0.184078    -0.391048    False  "
      ]
     },
     "execution_count": 7,
     "metadata": {},
     "output_type": "execute_result"
    }
   ],
   "source": [
    "\n",
    "df.head()"
   ]
  },
  {
   "cell_type": "code",
   "execution_count": 16,
   "metadata": {},
   "outputs": [],
   "source": [
    "import tensorflow as tf\n",
    "from tensorflow import keras\n",
    "from tensorflow.keras import layers\n",
    "# Function to generate Deep ANN model \n",
    "from keras.models import Sequential\n",
    "from keras.layers import Dense\n",
    "def make_classification_ann(Optimizer_Trial, Neurons_Trial):\n",
    "    from keras.models import Sequential\n",
    "    from keras.layers import Dense"
   ]
  },
  {
   "cell_type": "code",
   "execution_count": 25,
   "metadata": {},
   "outputs": [
    {
     "name": "stdout",
     "output_type": "stream",
     "text": [
      "(78361, 17)\n"
     ]
    }
   ],
   "source": [
    "print(x_train.shape)"
   ]
  },
  {
   "cell_type": "code",
   "execution_count": 21,
   "metadata": {},
   "outputs": [
    {
     "data": {
      "text/plain": [
       "array([0, 0, 0, ..., 0, 0, 0])"
      ]
     },
     "execution_count": 21,
     "metadata": {},
     "output_type": "execute_result"
    }
   ],
   "source": [
    "y_train.astype(int)"
   ]
  },
  {
   "cell_type": "code",
   "execution_count": 27,
   "metadata": {},
   "outputs": [
    {
     "name": "stdout",
     "output_type": "stream",
     "text": [
      "Epoch 1/10\n",
      "7837/7837 [==============================] - 6s 761us/step - loss: 0.1538 - accuracy: 0.9333\n",
      "Epoch 2/10\n",
      "7837/7837 [==============================] - 6s 752us/step - loss: 0.1436 - accuracy: 0.9364\n",
      "Epoch 3/10\n",
      "7837/7837 [==============================] - 6s 747us/step - loss: 0.1430 - accuracy: 0.9373\n",
      "Epoch 4/10\n",
      "7837/7837 [==============================] - 6s 745us/step - loss: 0.1424 - accuracy: 0.9383\n",
      "Epoch 5/10\n",
      "7837/7837 [==============================] - 6s 750us/step - loss: 0.1422 - accuracy: 0.9385\n",
      "Epoch 6/10\n",
      "7837/7837 [==============================] - 6s 750us/step - loss: 0.1420 - accuracy: 0.9390\n",
      "Epoch 7/10\n",
      "7837/7837 [==============================] - 6s 780us/step - loss: 0.1417 - accuracy: 0.9389\n",
      "Epoch 8/10\n",
      "7837/7837 [==============================] - 6s 761us/step - loss: 0.1416 - accuracy: 0.9387\n",
      "Epoch 9/10\n",
      "7837/7837 [==============================] - 6s 755us/step - loss: 0.1412 - accuracy: 0.9388\n",
      "Epoch 10/10\n",
      "7837/7837 [==============================] - 6s 751us/step - loss: 0.1411 - accuracy: 0.9387\n",
      "Epoch 1/10\n",
      "7837/7837 [==============================] - 6s 759us/step - loss: 0.1410 - accuracy: 0.9391\n",
      "Epoch 2/10\n",
      "7837/7837 [==============================] - 6s 775us/step - loss: 0.1408 - accuracy: 0.9387\n",
      "Epoch 3/10\n",
      "7837/7837 [==============================] - 6s 773us/step - loss: 0.1404 - accuracy: 0.9390\n",
      "Epoch 4/10\n",
      "7837/7837 [==============================] - 6s 761us/step - loss: 0.1401 - accuracy: 0.9391\n",
      "Epoch 5/10\n",
      "7837/7837 [==============================] - 6s 760us/step - loss: 0.1401 - accuracy: 0.9392\n",
      "Epoch 6/10\n",
      "7837/7837 [==============================] - 6s 759us/step - loss: 0.1398 - accuracy: 0.9393\n",
      "Epoch 7/10\n",
      "7837/7837 [==============================] - 6s 762us/step - loss: 0.1395 - accuracy: 0.9392\n",
      "Epoch 8/10\n",
      "7837/7837 [==============================] - 6s 766us/step - loss: 0.1395 - accuracy: 0.9393\n",
      "Epoch 9/10\n",
      "7837/7837 [==============================] - 6s 796us/step - loss: 0.1394 - accuracy: 0.9390\n",
      "Epoch 10/10\n",
      "7837/7837 [==============================] - 6s 771us/step - loss: 0.1394 - accuracy: 0.9389\n"
     ]
    }
   ],
   "source": [
    "\n",
    "# Separate Target Variable and Predictor Variables\n",
    "\n",
    "classifier = Sequential()\n",
    "# Defining the Input layer and FIRST hidden layer,both are same!\n",
    "# relu means Rectifier linear unit function\n",
    "classifier.add(Dense(units=18, input_dim=17, kernel_initializer='uniform', activation='relu'))\n",
    " \n",
    "#Defining the SECOND hidden layer, here we have not defined input because it is\n",
    "# second layer and it will get input as the output of first hidden layer\n",
    "classifier.add(Dense(units=12, kernel_initializer='uniform', activation='relu'))\n",
    " \n",
    "# Defining the Output layer\n",
    "# sigmoid means sigmoid activation function\n",
    "# for Multiclass classification the activation ='softmax'\n",
    "# And output_dim will be equal to the number of factor levels\n",
    "classifier.add(Dense(units=1, kernel_initializer='uniform', activation='sigmoid'))\n",
    " \n",
    "# Optimizer== the algorithm of SGG to keep updating weights\n",
    "# loss== the loss function to measure the accuracy\n",
    "# metrics== the way we will compare the accuracy after each step of SGD\n",
    "classifier.compile(optimizer='adam', loss='binary_crossentropy', metrics=[ \"accuracy\"])\n",
    " \n",
    "# fitting the Neural Network on the training data\n",
    "survivalANN_Model=classifier.fit(x_train,y_train.astype(int), batch_size=10 , epochs=10, verbose=1)\n",
    " \n",
    "# fitting the Neural Network on the training data\n",
    "survivalANN_Model=classifier.fit(x_train,y_train.astype(int), batch_size=10 , epochs=10, verbose=1)\n",
    " "
   ]
  },
  {
   "cell_type": "code",
   "execution_count": 39,
   "metadata": {},
   "outputs": [
    {
     "name": "stdout",
     "output_type": "stream",
     "text": [
      "1 Parameters: batch_size: 5 - epochs: 5 Accuracy: 0.9381580352783203\n"
     ]
    },
    {
     "name": "stderr",
     "output_type": "stream",
     "text": [
      "C:\\Users\\igor-\\AppData\\Local\\Temp\\ipykernel_17896\\1044171560.py:32: FutureWarning: The frame.append method is deprecated and will be removed from pandas in a future version. Use pandas.concat instead.\n",
      "  SearchResultsData=SearchResultsData.append(pd.DataFrame(data=[[TrialNumber,\n"
     ]
    },
    {
     "name": "stdout",
     "output_type": "stream",
     "text": [
      "2 Parameters: batch_size: 5 - epochs: 10 Accuracy: 0.9390258193016052\n"
     ]
    },
    {
     "name": "stderr",
     "output_type": "stream",
     "text": [
      "C:\\Users\\igor-\\AppData\\Local\\Temp\\ipykernel_17896\\1044171560.py:32: FutureWarning: The frame.append method is deprecated and will be removed from pandas in a future version. Use pandas.concat instead.\n",
      "  SearchResultsData=SearchResultsData.append(pd.DataFrame(data=[[TrialNumber,\n"
     ]
    },
    {
     "ename": "KeyboardInterrupt",
     "evalue": "",
     "output_type": "error",
     "traceback": [
      "\u001b[1;31m---------------------------------------------------------------------------\u001b[0m",
      "\u001b[1;31mKeyboardInterrupt\u001b[0m                         Traceback (most recent call last)",
      "\u001b[1;32mc:\\Users\\igor-\\OneDrive\\Área de Trabalho\\Deepen\\AMCRED\\Script_BdF.ipynb Cell 25\u001b[0m in \u001b[0;36m4\n\u001b[0;32m     <a href='vscode-notebook-cell:/c%3A/Users/igor-/OneDrive/%C3%81rea%20de%20Trabalho/Deepen/AMCRED/Script_BdF.ipynb#X30sZmlsZQ%3D%3D?line=34'>35</a>\u001b[0m     \u001b[39mreturn\u001b[39;00m(SearchResultsData)\n\u001b[0;32m     <a href='vscode-notebook-cell:/c%3A/Users/igor-/OneDrive/%C3%81rea%20de%20Trabalho/Deepen/AMCRED/Script_BdF.ipynb#X30sZmlsZQ%3D%3D?line=36'>37</a>\u001b[0m \u001b[39m###############################################\u001b[39;00m\n\u001b[0;32m     <a href='vscode-notebook-cell:/c%3A/Users/igor-/OneDrive/%C3%81rea%20de%20Trabalho/Deepen/AMCRED/Script_BdF.ipynb#X30sZmlsZQ%3D%3D?line=37'>38</a>\u001b[0m  \n\u001b[0;32m     <a href='vscode-notebook-cell:/c%3A/Users/igor-/OneDrive/%C3%81rea%20de%20Trabalho/Deepen/AMCRED/Script_BdF.ipynb#X30sZmlsZQ%3D%3D?line=38'>39</a>\u001b[0m \u001b[39m# Calling the function\u001b[39;00m\n\u001b[1;32m---> <a href='vscode-notebook-cell:/c%3A/Users/igor-/OneDrive/%C3%81rea%20de%20Trabalho/Deepen/AMCRED/Script_BdF.ipynb#X30sZmlsZQ%3D%3D?line=39'>40</a>\u001b[0m ResultsData\u001b[39m=\u001b[39mFunctionFindBestParams(x_train, y_bin)\n",
      "\u001b[1;32mc:\\Users\\igor-\\OneDrive\\Área de Trabalho\\Deepen\\AMCRED\\Script_BdF.ipynb Cell 25\u001b[0m in \u001b[0;36m2\n\u001b[0;32m     <a href='vscode-notebook-cell:/c%3A/Users/igor-/OneDrive/%C3%81rea%20de%20Trabalho/Deepen/AMCRED/Script_BdF.ipynb#X30sZmlsZQ%3D%3D?line=20'>21</a>\u001b[0m classifier\u001b[39m.\u001b[39madd(Dense(units\u001b[39m=\u001b[39m\u001b[39m1\u001b[39m, kernel_initializer\u001b[39m=\u001b[39m\u001b[39m'\u001b[39m\u001b[39muniform\u001b[39m\u001b[39m'\u001b[39m, activation\u001b[39m=\u001b[39m\u001b[39m'\u001b[39m\u001b[39msigmoid\u001b[39m\u001b[39m'\u001b[39m))\n\u001b[0;32m     <a href='vscode-notebook-cell:/c%3A/Users/igor-/OneDrive/%C3%81rea%20de%20Trabalho/Deepen/AMCRED/Script_BdF.ipynb#X30sZmlsZQ%3D%3D?line=21'>22</a>\u001b[0m classifier\u001b[39m.\u001b[39mcompile(optimizer\u001b[39m=\u001b[39m\u001b[39m'\u001b[39m\u001b[39madam\u001b[39m\u001b[39m'\u001b[39m, loss\u001b[39m=\u001b[39m\u001b[39m'\u001b[39m\u001b[39mbinary_crossentropy\u001b[39m\u001b[39m'\u001b[39m, metrics\u001b[39m=\u001b[39m[\u001b[39m'\u001b[39m\u001b[39maccuracy\u001b[39m\u001b[39m'\u001b[39m])\n\u001b[1;32m---> <a href='vscode-notebook-cell:/c%3A/Users/igor-/OneDrive/%C3%81rea%20de%20Trabalho/Deepen/AMCRED/Script_BdF.ipynb#X30sZmlsZQ%3D%3D?line=24'>25</a>\u001b[0m survivalANN_Model\u001b[39m=\u001b[39mclassifier\u001b[39m.\u001b[39;49mfit(x_train,y_bin, batch_size\u001b[39m=\u001b[39;49mbatch_size_trial , epochs\u001b[39m=\u001b[39;49mepochs_trial, verbose\u001b[39m=\u001b[39;49m\u001b[39m0\u001b[39;49m)\n\u001b[0;32m     <a href='vscode-notebook-cell:/c%3A/Users/igor-/OneDrive/%C3%81rea%20de%20Trabalho/Deepen/AMCRED/Script_BdF.ipynb#X30sZmlsZQ%3D%3D?line=25'>26</a>\u001b[0m \u001b[39m# Fetching the accuracy of the training\u001b[39;00m\n\u001b[0;32m     <a href='vscode-notebook-cell:/c%3A/Users/igor-/OneDrive/%C3%81rea%20de%20Trabalho/Deepen/AMCRED/Script_BdF.ipynb#X30sZmlsZQ%3D%3D?line=26'>27</a>\u001b[0m Accuracy \u001b[39m=\u001b[39m survivalANN_Model\u001b[39m.\u001b[39mhistory[\u001b[39m'\u001b[39m\u001b[39maccuracy\u001b[39m\u001b[39m'\u001b[39m][\u001b[39m-\u001b[39m\u001b[39m1\u001b[39m]\n",
      "File \u001b[1;32mc:\\Users\\igor-\\anaconda3\\lib\\site-packages\\keras\\utils\\traceback_utils.py:65\u001b[0m, in \u001b[0;36mfilter_traceback.<locals>.error_handler\u001b[1;34m(*args, **kwargs)\u001b[0m\n\u001b[0;32m     63\u001b[0m filtered_tb \u001b[39m=\u001b[39m \u001b[39mNone\u001b[39;00m\n\u001b[0;32m     64\u001b[0m \u001b[39mtry\u001b[39;00m:\n\u001b[1;32m---> 65\u001b[0m     \u001b[39mreturn\u001b[39;00m fn(\u001b[39m*\u001b[39margs, \u001b[39m*\u001b[39m\u001b[39m*\u001b[39mkwargs)\n\u001b[0;32m     66\u001b[0m \u001b[39mexcept\u001b[39;00m \u001b[39mException\u001b[39;00m \u001b[39mas\u001b[39;00m e:\n\u001b[0;32m     67\u001b[0m     filtered_tb \u001b[39m=\u001b[39m _process_traceback_frames(e\u001b[39m.\u001b[39m__traceback__)\n",
      "File \u001b[1;32mc:\\Users\\igor-\\anaconda3\\lib\\site-packages\\keras\\engine\\training.py:1555\u001b[0m, in \u001b[0;36mModel.fit\u001b[1;34m(self, x, y, batch_size, epochs, verbose, callbacks, validation_split, validation_data, shuffle, class_weight, sample_weight, initial_epoch, steps_per_epoch, validation_steps, validation_batch_size, validation_freq, max_queue_size, workers, use_multiprocessing)\u001b[0m\n\u001b[0;32m   1551\u001b[0m \u001b[39mwith\u001b[39;00m data_handler\u001b[39m.\u001b[39mcatch_stop_iteration():\n\u001b[0;32m   1552\u001b[0m     data_handler\u001b[39m.\u001b[39m_initial_step \u001b[39m=\u001b[39m data_handler\u001b[39m.\u001b[39m_initial_step \u001b[39mor\u001b[39;00m (\n\u001b[0;32m   1553\u001b[0m         \u001b[39mself\u001b[39m\u001b[39m.\u001b[39m_maybe_load_initial_step_from_ckpt()\n\u001b[0;32m   1554\u001b[0m     )\n\u001b[1;32m-> 1555\u001b[0m     \u001b[39mfor\u001b[39;00m step \u001b[39min\u001b[39;00m data_handler\u001b[39m.\u001b[39msteps():\n\u001b[0;32m   1556\u001b[0m         \u001b[39mwith\u001b[39;00m tf\u001b[39m.\u001b[39mprofiler\u001b[39m.\u001b[39mexperimental\u001b[39m.\u001b[39mTrace(\n\u001b[0;32m   1557\u001b[0m             \u001b[39m\"\u001b[39m\u001b[39mtrain\u001b[39m\u001b[39m\"\u001b[39m,\n\u001b[0;32m   1558\u001b[0m             epoch_num\u001b[39m=\u001b[39mepoch,\n\u001b[1;32m   (...)\u001b[0m\n\u001b[0;32m   1561\u001b[0m             _r\u001b[39m=\u001b[39m\u001b[39m1\u001b[39m,\n\u001b[0;32m   1562\u001b[0m         ):\n\u001b[0;32m   1563\u001b[0m             callbacks\u001b[39m.\u001b[39mon_train_batch_begin(step)\n",
      "File \u001b[1;32mc:\\Users\\igor-\\anaconda3\\lib\\site-packages\\keras\\engine\\data_adapter.py:1374\u001b[0m, in \u001b[0;36mDataHandler.steps\u001b[1;34m(self)\u001b[0m\n\u001b[0;32m   1372\u001b[0m \u001b[39mif\u001b[39;00m \u001b[39mself\u001b[39m\u001b[39m.\u001b[39m_insufficient_data:  \u001b[39m# Set by `catch_stop_iteration`.\u001b[39;00m\n\u001b[0;32m   1373\u001b[0m     \u001b[39mbreak\u001b[39;00m\n\u001b[1;32m-> 1374\u001b[0m original_spe \u001b[39m=\u001b[39m \u001b[39mself\u001b[39;49m\u001b[39m.\u001b[39;49m_steps_per_execution\u001b[39m.\u001b[39;49mnumpy()\u001b[39m.\u001b[39mitem()\n\u001b[0;32m   1375\u001b[0m can_run_full_execution \u001b[39m=\u001b[39m (\n\u001b[0;32m   1376\u001b[0m     original_spe \u001b[39m==\u001b[39m \u001b[39m1\u001b[39m\n\u001b[0;32m   1377\u001b[0m     \u001b[39mor\u001b[39;00m \u001b[39mself\u001b[39m\u001b[39m.\u001b[39m_inferred_steps \u001b[39mis\u001b[39;00m \u001b[39mNone\u001b[39;00m\n\u001b[0;32m   1378\u001b[0m     \u001b[39mor\u001b[39;00m \u001b[39mself\u001b[39m\u001b[39m.\u001b[39m_inferred_steps \u001b[39m-\u001b[39m \u001b[39mself\u001b[39m\u001b[39m.\u001b[39m_current_step \u001b[39m>\u001b[39m\u001b[39m=\u001b[39m original_spe\n\u001b[0;32m   1379\u001b[0m )\n\u001b[0;32m   1381\u001b[0m \u001b[39mif\u001b[39;00m can_run_full_execution:\n",
      "File \u001b[1;32mc:\\Users\\igor-\\anaconda3\\lib\\site-packages\\tensorflow\\python\\ops\\resource_variable_ops.py:637\u001b[0m, in \u001b[0;36mBaseResourceVariable.numpy\u001b[1;34m(self)\u001b[0m\n\u001b[0;32m    635\u001b[0m \u001b[39mdef\u001b[39;00m \u001b[39mnumpy\u001b[39m(\u001b[39mself\u001b[39m):\n\u001b[0;32m    636\u001b[0m   \u001b[39mif\u001b[39;00m context\u001b[39m.\u001b[39mexecuting_eagerly():\n\u001b[1;32m--> 637\u001b[0m     \u001b[39mreturn\u001b[39;00m \u001b[39mself\u001b[39;49m\u001b[39m.\u001b[39;49mread_value()\u001b[39m.\u001b[39mnumpy()\n\u001b[0;32m    638\u001b[0m   \u001b[39mraise\u001b[39;00m \u001b[39mNotImplementedError\u001b[39;00m(\n\u001b[0;32m    639\u001b[0m       \u001b[39m\"\u001b[39m\u001b[39mnumpy() is only available when eager execution is enabled.\u001b[39m\u001b[39m\"\u001b[39m)\n",
      "File \u001b[1;32mc:\\Users\\igor-\\anaconda3\\lib\\site-packages\\tensorflow\\python\\ops\\resource_variable_ops.py:725\u001b[0m, in \u001b[0;36mBaseResourceVariable.read_value\u001b[1;34m(self)\u001b[0m\n\u001b[0;32m    716\u001b[0m \u001b[39m\"\"\"Constructs an op which reads the value of this variable.\u001b[39;00m\n\u001b[0;32m    717\u001b[0m \n\u001b[0;32m    718\u001b[0m \u001b[39mShould be used when there are multiple reads, or when it is desirable to\u001b[39;00m\n\u001b[1;32m   (...)\u001b[0m\n\u001b[0;32m    722\u001b[0m \u001b[39m  The value of the variable.\u001b[39;00m\n\u001b[0;32m    723\u001b[0m \u001b[39m\"\"\"\u001b[39;00m\n\u001b[0;32m    724\u001b[0m \u001b[39mwith\u001b[39;00m ops\u001b[39m.\u001b[39mname_scope(\u001b[39m\"\u001b[39m\u001b[39mRead\u001b[39m\u001b[39m\"\u001b[39m):\n\u001b[1;32m--> 725\u001b[0m   value \u001b[39m=\u001b[39m \u001b[39mself\u001b[39;49m\u001b[39m.\u001b[39;49m_read_variable_op()\n\u001b[0;32m    726\u001b[0m \u001b[39m# Return an identity so it can get placed on whatever device the context\u001b[39;00m\n\u001b[0;32m    727\u001b[0m \u001b[39m# specifies instead of the device where the variable is.\u001b[39;00m\n\u001b[0;32m    728\u001b[0m \u001b[39mreturn\u001b[39;00m array_ops\u001b[39m.\u001b[39midentity(value)\n",
      "File \u001b[1;32mc:\\Users\\igor-\\anaconda3\\lib\\site-packages\\tensorflow\\python\\ops\\resource_variable_ops.py:704\u001b[0m, in \u001b[0;36mBaseResourceVariable._read_variable_op\u001b[1;34m(self, no_copy)\u001b[0m\n\u001b[0;32m    702\u001b[0m       result \u001b[39m=\u001b[39m read_and_set_handle(no_copy)\n\u001b[0;32m    703\u001b[0m \u001b[39melse\u001b[39;00m:\n\u001b[1;32m--> 704\u001b[0m   result \u001b[39m=\u001b[39m read_and_set_handle(no_copy)\n\u001b[0;32m    706\u001b[0m \u001b[39mif\u001b[39;00m \u001b[39mnot\u001b[39;00m context\u001b[39m.\u001b[39mexecuting_eagerly():\n\u001b[0;32m    707\u001b[0m   \u001b[39m# Note that if a control flow context is active the input of the read op\u001b[39;00m\n\u001b[0;32m    708\u001b[0m   \u001b[39m# might not actually be the handle. This line bypasses it.\u001b[39;00m\n\u001b[0;32m    709\u001b[0m   tape\u001b[39m.\u001b[39mrecord_operation(\n\u001b[0;32m    710\u001b[0m       \u001b[39m\"\u001b[39m\u001b[39mReadVariableOp\u001b[39m\u001b[39m\"\u001b[39m, [result], [\u001b[39mself\u001b[39m\u001b[39m.\u001b[39mhandle],\n\u001b[0;32m    711\u001b[0m       backward_function\u001b[39m=\u001b[39m\u001b[39mlambda\u001b[39;00m x: [x],\n\u001b[0;32m    712\u001b[0m       forward_function\u001b[39m=\u001b[39m\u001b[39mlambda\u001b[39;00m x: [x])\n",
      "File \u001b[1;32mc:\\Users\\igor-\\anaconda3\\lib\\site-packages\\tensorflow\\python\\ops\\resource_variable_ops.py:694\u001b[0m, in \u001b[0;36mBaseResourceVariable._read_variable_op.<locals>.read_and_set_handle\u001b[1;34m(no_copy)\u001b[0m\n\u001b[0;32m    692\u001b[0m \u001b[39mif\u001b[39;00m no_copy \u001b[39mand\u001b[39;00m forward_compat\u001b[39m.\u001b[39mforward_compatible(\u001b[39m2022\u001b[39m, \u001b[39m5\u001b[39m, \u001b[39m3\u001b[39m):\n\u001b[0;32m    693\u001b[0m   gen_resource_variable_ops\u001b[39m.\u001b[39mdisable_copy_on_read(\u001b[39mself\u001b[39m\u001b[39m.\u001b[39mhandle)\n\u001b[1;32m--> 694\u001b[0m result \u001b[39m=\u001b[39m gen_resource_variable_ops\u001b[39m.\u001b[39;49mread_variable_op(\n\u001b[0;32m    695\u001b[0m     \u001b[39mself\u001b[39;49m\u001b[39m.\u001b[39;49mhandle, \u001b[39mself\u001b[39;49m\u001b[39m.\u001b[39;49m_dtype)\n\u001b[0;32m    696\u001b[0m _maybe_set_handle_data(\u001b[39mself\u001b[39m\u001b[39m.\u001b[39m_dtype, \u001b[39mself\u001b[39m\u001b[39m.\u001b[39mhandle, result)\n\u001b[0;32m    697\u001b[0m \u001b[39mreturn\u001b[39;00m result\n",
      "File \u001b[1;32mc:\\Users\\igor-\\anaconda3\\lib\\site-packages\\tensorflow\\python\\ops\\gen_resource_variable_ops.py:524\u001b[0m, in \u001b[0;36mread_variable_op\u001b[1;34m(resource, dtype, name)\u001b[0m\n\u001b[0;32m    522\u001b[0m \u001b[39mif\u001b[39;00m tld\u001b[39m.\u001b[39mis_eager:\n\u001b[0;32m    523\u001b[0m   \u001b[39mtry\u001b[39;00m:\n\u001b[1;32m--> 524\u001b[0m     _result \u001b[39m=\u001b[39m pywrap_tfe\u001b[39m.\u001b[39;49mTFE_Py_FastPathExecute(\n\u001b[0;32m    525\u001b[0m       _ctx, \u001b[39m\"\u001b[39;49m\u001b[39mReadVariableOp\u001b[39;49m\u001b[39m\"\u001b[39;49m, name, resource, \u001b[39m\"\u001b[39;49m\u001b[39mdtype\u001b[39;49m\u001b[39m\"\u001b[39;49m, dtype)\n\u001b[0;32m    526\u001b[0m     \u001b[39mreturn\u001b[39;00m _result\n\u001b[0;32m    527\u001b[0m   \u001b[39mexcept\u001b[39;00m _core\u001b[39m.\u001b[39m_NotOkStatusException \u001b[39mas\u001b[39;00m e:\n",
      "\u001b[1;31mKeyboardInterrupt\u001b[0m: "
     ]
    }
   ],
   "source": [
    "y_bin = y_train.astype(int)\n",
    "# Defining a function for finding best hyperparameters\n",
    "def FunctionFindBestParams(x_train, y_bin):\n",
    "    \n",
    "    # Defining the list of hyper parameters to try\n",
    "    TrialNumber=0\n",
    "    batch_size_list=[5, 10, 15, 20]\n",
    "    epoch_list=[5, 10, 50 ,100]\n",
    "    \n",
    "    import pandas as pd\n",
    "    SearchResultsData=pd.DataFrame(columns=['TrialNumber', 'Parameters', 'Accuracy'])\n",
    "    \n",
    "    for batch_size_trial in batch_size_list:\n",
    "        for epochs_trial in epoch_list:\n",
    "            TrialNumber+=1\n",
    "            \n",
    "            # Creating the classifier ANN model\n",
    "            classifier = Sequential()\n",
    "            classifier.add(Dense(units=19, input_dim=17, kernel_initializer='uniform', activation='relu'))\n",
    "            classifier.add(Dense(units=14, kernel_initializer='uniform', activation='relu'))\n",
    "            classifier.add(Dense(units=1, kernel_initializer='uniform', activation='sigmoid'))\n",
    "            classifier.compile(optimizer='adam', loss='binary_crossentropy', metrics=['accuracy'])\n",
    " \n",
    "            \n",
    "            survivalANN_Model=classifier.fit(x_train,y_bin, batch_size=batch_size_trial , epochs=epochs_trial, verbose=0)\n",
    "            # Fetching the accuracy of the training\n",
    "            Accuracy = survivalANN_Model.history['accuracy'][-1]\n",
    "            \n",
    "            # printing the results of the current iteration\n",
    "            print(TrialNumber, 'Parameters:','batch_size:', batch_size_trial,'-', 'epochs:',epochs_trial, 'Accuracy:', Accuracy)\n",
    "            \n",
    "            SearchResultsData=SearchResultsData.append(pd.DataFrame(data=[[TrialNumber,\n",
    "                            'batch_size'+str(batch_size_trial)+'-'+'epoch'+str(epochs_trial), Accuracy]],\n",
    "                                                                    columns=['TrialNumber', 'Parameters', 'Accuracy'] ))\n",
    "    return(SearchResultsData)\n",
    " \n",
    "###############################################\n",
    " \n",
    "# Calling the function\n",
    "ResultsData=FunctionFindBestParams(x_train, y_bin)\n",
    "\n"
   ]
  },
  {
   "cell_type": "code",
   "execution_count": 32,
   "metadata": {},
   "outputs": [
    {
     "data": {
      "text/plain": [
       "array([0, 0, 0, ..., 0, 0, 0])"
      ]
     },
     "execution_count": 32,
     "metadata": {},
     "output_type": "execute_result"
    }
   ],
   "source": [
    "y_train.astype(int)"
   ]
  },
  {
   "cell_type": "code",
   "execution_count": null,
   "metadata": {},
   "outputs": [],
   "source": [
    "\n",
    "# Printing the best parameter\n",
    "print(ResultsData.sort_values(by='Accuracy', ascending=False).head(1))\n",
    " \n",
    "# Visualizing the results\n",
    "%matplotlib inline\n",
    "ResultsData.plot(x='Parameters', y='Accuracy', figsize=(15,4), kind='line', rot=20)"
   ]
  },
  {
   "cell_type": "code",
   "execution_count": null,
   "metadata": {},
   "outputs": [],
   "source": [
    "\n",
    "# Training the model with best hyperparamters\n",
    "classifier.fit(X_train,y_train, batch_size=5 , epochs=100, verbose=1)"
   ]
  }
 ],
 "metadata": {
  "kernelspec": {
   "display_name": "base",
   "language": "python",
   "name": "python3"
  },
  "language_info": {
   "codemirror_mode": {
    "name": "ipython",
    "version": 3
   },
   "file_extension": ".py",
   "mimetype": "text/x-python",
   "name": "python",
   "nbconvert_exporter": "python",
   "pygments_lexer": "ipython3",
   "version": "3.9.15"
  },
  "orig_nbformat": 4
 },
 "nbformat": 4,
 "nbformat_minor": 2
}
